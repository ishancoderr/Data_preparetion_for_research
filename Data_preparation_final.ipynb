{
  "nbformat": 4,
  "nbformat_minor": 0,
  "metadata": {
    "colab": {
      "provenance": [],
      "include_colab_link": true
    },
    "kernelspec": {
      "name": "python3",
      "display_name": "Python 3"
    },
    "language_info": {
      "name": "python"
    }
  },
  "cells": [
    {
      "cell_type": "markdown",
      "metadata": {
        "id": "view-in-github",
        "colab_type": "text"
      },
      "source": [
        "<a href=\"https://colab.research.google.com/github/ishancoderr/Data_preparetion_for_research/blob/master/Data_preparation_final.ipynb\" target=\"_parent\"><img src=\"https://colab.research.google.com/assets/colab-badge.svg\" alt=\"Open In Colab\"/></a>"
      ]
    },
    {
      "cell_type": "code",
      "execution_count": 1,
      "metadata": {
        "id": "yHmtpiZ0Bg1B"
      },
      "outputs": [],
      "source": [
        "import numpy as np\n",
        "import matplotlib.pyplot as plt\n",
        "import pandas as pd\n"
      ]
    },
    {
      "cell_type": "code",
      "source": [
        "dataset=pd.read_csv(\"https://raw.githubusercontent.com/ishancoderr/Data_preparetion_for_research/master/Landslide_occuring_data_Extracted_data.csv\")\n",
        "print(len(dataset))"
      ],
      "metadata": {
        "colab": {
          "base_uri": "https://localhost:8080/"
        },
        "id": "gt6vtUUBCm8v",
        "outputId": "b31d2935-1289-4d91-f027-09eb812c4e0d"
      },
      "execution_count": 2,
      "outputs": [
        {
          "output_type": "stream",
          "name": "stdout",
          "text": [
            "73\n"
          ]
        }
      ]
    },
    {
      "cell_type": "code",
      "source": [
        "# filter the DataFrame to get only the rows where Status is \"Generated_Yes\"\n",
        "generated_yes_df = dataset[dataset['Status'] == 'Generated_Yes']\n",
        "\n",
        "# find the minimum value for cum_rainfall in the filtered DataFrame\n",
        "min_cum_rainfall = generated_yes_df['cum_rainfa'].min()\n",
        "# find the minimum value for hours in the filtered DataFrame\n",
        "min_hours= generated_yes_df['hours'].min()\n",
        "print(\"Minimum value for cum_rainfall with Status Generated_Yes:\", min_cum_rainfall)\n",
        "print(\"Minimum value for hours with Status Generated_Yes:\", min_hours)"
      ],
      "metadata": {
        "id": "XkrFtSCjXoG6",
        "outputId": "2c80f0fc-60fd-4ba2-c6ed-113e9cbae4ce",
        "colab": {
          "base_uri": "https://localhost:8080/"
        }
      },
      "execution_count": 4,
      "outputs": [
        {
          "output_type": "stream",
          "name": "stdout",
          "text": [
            "Minimum value for cum_rainfall with Status Generated_Yes: 177.25\n",
            "Minimum value for hours with Status Generated_Yes: 4.293129298\n"
          ]
        }
      ]
    },
    {
      "cell_type": "code",
      "source": [
        "dataset_rd_s_2=dataset[['cum_rainfa','intensity','hours','Extracted_Values','Status']]\n",
        "df=dataset_rd_s_2.reset_index()\n",
        "print(df)"
      ],
      "metadata": {
        "colab": {
          "base_uri": "https://localhost:8080/"
        },
        "id": "z2NbJ6ldYQDz",
        "outputId": "9ae841c6-bf37-4aac-857f-90ccd169a22f"
      },
      "execution_count": 5,
      "outputs": [
        {
          "output_type": "stream",
          "name": "stdout",
          "text": [
            "    index  cum_rainfa  intensity     hours  Extracted_Values         Status\n",
            "0       0     223.153  50.453000  6.123000                 3            yes\n",
            "1       1     227.152  43.512000  6.000000                 4            yes\n",
            "2       2     321.524  40.256300  5.128000                 4            yes\n",
            "3       3     218.583  42.442700  5.150073                 1  Generated_Yes\n",
            "4       4     214.083  42.808700  5.000923                 2  Generated_Yes\n",
            "..    ...         ...        ...       ...               ...            ...\n",
            "68     68     179.000  44.750000  4.000000                 4            yes\n",
            "69     69     198.000  24.750000  8.000000                 4            yes\n",
            "70     70     212.000  53.000000  4.000000                 4            yes\n",
            "71     71     228.000  45.600000  5.000000                 4            yes\n",
            "72     72     289.000  48.166667  6.000000                 4            yes\n",
            "\n",
            "[73 rows x 6 columns]\n"
          ]
        }
      ]
    },
    {
      "cell_type": "code",
      "source": [
        "import random\n",
        "dataset_rd_s_2[\"Status\"]\n",
        "new_cum_rainfall_=[]\n",
        "new_hours_=[]\t\n",
        "new_intensity_=[]\n",
        "status=[]\n",
        "new_extracted_Values=[]\n",
        "\n",
        "for i in range(len(df)):\n",
        "  \n",
        "  if df[\"Status\"][i]==\"Generated_Yes\":\n",
        "    new_cum_rainfall=df[\"cum_rainfa\"][i]-random.randint(40,140)\n",
        "    new_hours=df[\"hours\"][i]-random.uniform(0.5, 2.5)\n",
        "    new_intensity\t=new_cum_rainfall/new_hours\n",
        "    new_geo_risk=df['Extracted_Values'][i]\n",
        "    new_status=\"Generated_No\"\n",
        "\n",
        "    new_cum_rainfall_.append(new_cum_rainfall)\n",
        "    new_hours_.append(new_hours)\n",
        "    new_intensity_.append(new_intensity)\n",
        "    new_extracted_Values.append(new_geo_risk)\n",
        "    status.append(new_status)\n",
        "    \n",
        "  elif df[\"Status\"][i]==\"yes\":\n",
        "    new_cum_rainfall=df[\"cum_rainfa\"][i]\n",
        "    new_hours=df[\"hours\"][i]\n",
        "    new_intensity\t=new_cum_rainfall/new_hours\n",
        "    new_geo_risk=df['Extracted_Values'][i]\n",
        "    new_status=\"yes\"\n",
        "\n",
        "    new_cum_rainfall_.append(new_cum_rainfall)\n",
        "    new_hours_.append(new_hours)\n",
        "    new_intensity_.append(new_intensity)\n",
        "    new_extracted_Values.append(new_geo_risk)\n",
        "    status.append(new_status)\n",
        "\n"
      ],
      "metadata": {
        "id": "iNtZLdG-Gl-K"
      },
      "execution_count": 7,
      "outputs": []
    },
    {
      "cell_type": "code",
      "source": [
        "\n",
        "rainfall_data= {\n",
        "    'new_cum_rainfall':new_cum_rainfall_,\n",
        "    'new_hours' :new_hours_,\n",
        "    'new_intensity':new_intensity_,\n",
        "    'new_extracted_Values':new_extracted_Values,\n",
        "    'status':status\n",
        "          }\n",
        "df1 = pd.DataFrame(rainfall_data)\n",
        "print(df1)\n",
        "df1.to_csv(r'/content/rainfall_with_geo_risk.csv')"
      ],
      "metadata": {
        "id": "0QiZ_grkcjtQ",
        "outputId": "457f1ed8-bf8d-4a80-9a4d-d92fbac02c03",
        "colab": {
          "base_uri": "https://localhost:8080/"
        }
      },
      "execution_count": 9,
      "outputs": [
        {
          "output_type": "stream",
          "name": "stdout",
          "text": [
            "    new_cum_rainfall  new_hours  new_intensity  new_extracted_Values  \\\n",
            "0            223.153   6.123000      36.445043                     3   \n",
            "1            227.152   6.000000      37.858667                     4   \n",
            "2            321.524   5.128000      62.699688                     4   \n",
            "3            130.583   3.400422      38.401998                     1   \n",
            "4             94.083   2.824952      33.304285                     2   \n",
            "..               ...        ...            ...                   ...   \n",
            "68           179.000   4.000000      44.750000                     4   \n",
            "69           198.000   8.000000      24.750000                     4   \n",
            "70           212.000   4.000000      53.000000                     4   \n",
            "71           228.000   5.000000      45.600000                     4   \n",
            "72           289.000   6.000000      48.166667                     4   \n",
            "\n",
            "          status  \n",
            "0            yes  \n",
            "1            yes  \n",
            "2            yes  \n",
            "3   Generated_No  \n",
            "4   Generated_No  \n",
            "..           ...  \n",
            "68           yes  \n",
            "69           yes  \n",
            "70           yes  \n",
            "71           yes  \n",
            "72           yes  \n",
            "\n",
            "[73 rows x 5 columns]\n"
          ]
        }
      ]
    },
    {
      "cell_type": "code",
      "source": [],
      "metadata": {
        "id": "Q7rjXljFWuS2"
      },
      "execution_count": null,
      "outputs": []
    }
  ]
}