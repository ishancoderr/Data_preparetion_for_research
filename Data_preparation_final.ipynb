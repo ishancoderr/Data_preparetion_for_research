{
  "nbformat": 4,
  "nbformat_minor": 0,
  "metadata": {
    "colab": {
      "provenance": [],
      "include_colab_link": true
    },
    "kernelspec": {
      "name": "python3",
      "display_name": "Python 3"
    },
    "language_info": {
      "name": "python"
    }
  },
  "cells": [
    {
      "cell_type": "markdown",
      "metadata": {
        "id": "view-in-github",
        "colab_type": "text"
      },
      "source": [
        "<a href=\"https://colab.research.google.com/github/ishancoderr/Data_preparetion_for_research/blob/master/Data_preparation_final.ipynb\" target=\"_parent\"><img src=\"https://colab.research.google.com/assets/colab-badge.svg\" alt=\"Open In Colab\"/></a>"
      ]
    },
    {
      "cell_type": "code",
      "execution_count": 5,
      "metadata": {
        "id": "yHmtpiZ0Bg1B"
      },
      "outputs": [],
      "source": [
        "import numpy as np\n",
        "import matplotlib.pyplot as plt\n",
        "import pandas as pd\n"
      ]
    },
    {
      "cell_type": "code",
      "source": [
        "dataset=pd.read_csv(\"https://raw.githubusercontent.com/ishancoderr/Data_preparetion_for_research/master/final_dataset.csv\")\n",
        "print(len(dataset))"
      ],
      "metadata": {
        "colab": {
          "base_uri": "https://localhost:8080/"
        },
        "id": "gt6vtUUBCm8v",
        "outputId": "511e83e8-fd89-40ee-889b-9bbe7cbb709c"
      },
      "execution_count": 6,
      "outputs": [
        {
          "output_type": "stream",
          "name": "stdout",
          "text": [
            "327\n"
          ]
        }
      ]
    },
    {
      "cell_type": "code",
      "source": [
        "dataset_rd=dataset.drop_duplicates()"
      ],
      "metadata": {
        "id": "KylcgG7IDNSW"
      },
      "execution_count": 8,
      "outputs": []
    },
    {
      "cell_type": "code",
      "source": [
        "print(len(dataset_rd))"
      ],
      "metadata": {
        "colab": {
          "base_uri": "https://localhost:8080/"
        },
        "id": "4I3wOsbGDq2K",
        "outputId": "c0f0d172-e86e-42cb-d854-5674e3ccad83"
      },
      "execution_count": 9,
      "outputs": [
        {
          "output_type": "stream",
          "name": "stdout",
          "text": [
            "327\n"
          ]
        }
      ]
    },
    {
      "cell_type": "code",
      "source": [
        "#Remove duplicate data\n",
        "\n",
        "dataset_rd_s=dataset_rd.drop_duplicates(subset=\"cum_rainfall\",keep='first')"
      ],
      "metadata": {
        "id": "7sM958GFEKVD"
      },
      "execution_count": 10,
      "outputs": []
    },
    {
      "cell_type": "code",
      "source": [
        "print(len(dataset_rd_s))"
      ],
      "metadata": {
        "colab": {
          "base_uri": "https://localhost:8080/"
        },
        "id": "JmSa4NUSGhE7",
        "outputId": "cd54361c-db27-4865-9659-5dae41c0c435"
      },
      "execution_count": 11,
      "outputs": [
        {
          "output_type": "stream",
          "name": "stdout",
          "text": [
            "156\n"
          ]
        }
      ]
    },
    {
      "cell_type": "code",
      "source": [
        "with pd.option_context('display.max_rows', None, 'display.max_columns', None):  # more options can be specified also\n",
        "    print(dataset_rd_s)"
      ],
      "metadata": {
        "colab": {
          "base_uri": "https://localhost:8080/"
        },
        "id": "pshfLCbmXnNz",
        "outputId": "03379831-0577-40b4-cbea-46bbca9a566a"
      },
      "execution_count": 12,
      "outputs": [
        {
          "output_type": "stream",
          "name": "stdout",
          "text": [
            "      POINT_Y    POINT_X  cum_rainfall  intensity     hours         Status\n",
            "0    6.978650  81.202404       207.333  39.966300  5.187696  Generated_Yes\n",
            "1    7.071753  81.026493       201.750  42.147600  4.786749  Generated_Yes\n",
            "2    7.471657  81.107509       212.333  40.756900  5.209744  Generated_Yes\n",
            "3    7.336590  81.077032       204.500  39.397300  5.190711  Generated_Yes\n",
            "5    6.840742  81.019414       237.000  44.000000  5.386364  Generated_Yes\n",
            "6    7.254049  81.137813       190.417  37.879900  5.026861  Generated_Yes\n",
            "7    7.267240  81.076114       200.500  40.156000  4.993027  Generated_Yes\n",
            "8    6.663696  80.959595       224.333  42.355200  5.296469  Generated_Yes\n",
            "9    7.489625  81.056713       225.083  42.344300  5.315544  Generated_Yes\n",
            "12   6.688002  81.058688       221.250  43.156500  5.126690  Generated_Yes\n",
            "13   6.948867  81.050996       219.917  43.570100  5.047429  Generated_Yes\n",
            "14   6.792655  81.043097       225.917  42.416700  5.326133  Generated_Yes\n",
            "16   7.485044  81.124573       222.500  42.416700  5.245575  Generated_Yes\n",
            "17   7.558280  80.998844       224.667  41.133200  5.461938  Generated_Yes\n",
            "18   6.889261  80.879796       218.333  43.779700  4.987083  Generated_Yes\n",
            "19   6.760647  80.833760       214.167  42.444200  5.045848  Generated_Yes\n",
            "20   7.228223  81.155690       194.333  39.397300  4.932648  Generated_Yes\n",
            "22   7.077175  81.072597       196.333  39.871500  4.924144  Generated_Yes\n",
            "23   7.546001  81.181914       229.917  40.422800  5.687805  Generated_Yes\n",
            "24   6.806989  80.877193       219.417  42.711300  5.137212  Generated_Yes\n",
            "25   6.839635  81.063562       226.750  43.500000  5.212644  Generated_Yes\n",
            "29   7.466091  81.073628       214.500  43.513900  4.929459  Generated_Yes\n",
            "30   7.272597  81.202521       200.167  38.354100  5.218921  Generated_Yes\n",
            "31   7.417968  81.028401       217.583  42.305700  5.143113  Generated_Yes\n",
            "32   7.449000  81.053551       213.250  42.762000  4.986904  Generated_Yes\n",
            "33   7.433433  80.993708       221.167  42.937000  5.150965  Generated_Yes\n",
            "37   7.211052  80.988449       210.083  41.166700  5.103227  Generated_Yes\n",
            "40   6.957114  80.917334       238.500  44.833300  5.319707  Generated_Yes\n",
            "42   6.813318  81.085550       229.667  41.833300  5.490052  Generated_Yes\n",
            "43   7.463752  81.030188       226.250  44.380000  5.098017  Generated_Yes\n",
            "46   7.059911  81.087080       201.500  41.009600  4.913484  Generated_Yes\n",
            "48   6.966872  81.064198       213.167  41.957900  5.080497  Generated_Yes\n",
            "51   7.496566  81.178430       211.667  40.252800  5.258442  Generated_Yes\n",
            "52   7.521723  81.167898       225.667  40.083300  5.629951  Generated_Yes\n",
            "53   6.774370  81.061278       212.917  42.266200  5.037524  Generated_Yes\n",
            "54   6.757140  80.911398       224.833  41.732000  5.387544  Generated_Yes\n",
            "59   7.466083  81.188245       195.250  39.018000  5.004101  Generated_Yes\n",
            "60   7.376080  80.981883       204.583  42.177200  4.850559  Generated_Yes\n",
            "67   6.999053  81.034831       206.417  42.147600  4.897479  Generated_Yes\n",
            "69   6.904604  81.063720       210.833  42.526900  4.957639  Generated_Yes\n",
            "71   7.437696  81.145239       203.667  38.807200  5.248176  Generated_Yes\n",
            "72   6.871175  80.870694       222.417  42.266200  5.262290  Generated_Yes\n",
            "74   7.042537  80.991931       210.167  41.677800  5.042661  Generated_Yes\n",
            "76   6.928820  80.894817       237.667  45.083300  5.271730  Generated_Yes\n",
            "80   7.507459  81.090888       217.667  41.174700  5.286426  Generated_Yes\n",
            "84   7.028751  80.983627       214.333  42.526900  5.039939  Generated_Yes\n",
            "85   6.902463  81.146558       211.750  40.345700  5.248391  Generated_Yes\n",
            "86   6.891222  80.846822       207.750  43.868700  4.735723  Generated_Yes\n",
            "90   6.929426  80.961260       260.333  45.666700  5.700718  Generated_Yes\n",
            "95   7.143901  81.003427       199.000  40.894900  4.866132  Generated_Yes\n",
            "96   6.945667  80.911400       251.667  45.416700  5.541288  Generated_Yes\n",
            "98   6.837577  80.638748       194.417  41.858000  4.644680  Generated_Yes\n",
            "100  6.946698  80.658580       192.583  40.515600  4.753305  Generated_Yes\n",
            "102  6.795484  80.686934       191.083  42.444200  4.501981  Generated_Yes\n",
            "103  6.860050  80.506485       222.167  41.655900  5.333386  Generated_Yes\n",
            "104  6.932570  80.569491       200.333  40.963000  4.890584  Generated_Yes\n",
            "105  6.976592  80.451695       210.417  41.679000  5.048514  Generated_Yes\n",
            "106  6.860224  80.672559       202.333  40.873600  4.950212  Generated_Yes\n",
            "107  6.994072  80.784630       223.000  42.750000  5.216374  Generated_Yes\n",
            "111  6.896339  80.734149       209.917  40.250000  5.215329  Generated_Yes\n",
            "112  7.253959  80.769192       221.083  42.333300  5.222437  Generated_Yes\n",
            "113  6.998488  80.491601       199.583  41.768500  4.778314  Generated_Yes\n",
            "114  6.862503  80.631145       198.417  39.620700  5.007913  Generated_Yes\n",
            "117  7.191225  80.910930       232.500  43.416700  5.355082  Generated_Yes\n",
            "118  7.056751  80.906154       227.750  42.250000  5.390533  Generated_Yes\n",
            "120  7.161514  80.783570       217.000  42.500000  5.105882  Generated_Yes\n",
            "121  6.797591  80.647577       200.250  42.000000  4.767857  Generated_Yes\n",
            "122  7.074968  80.609030       224.417  41.947500  5.349949  Generated_Yes\n",
            "124  6.859901  80.698957       183.917  39.417300  4.665895  Generated_Yes\n",
            "125  6.804424  80.758978       187.667  41.197800  4.555268  Generated_Yes\n",
            "126  6.827051  80.760416       194.250  40.841700  4.756168  Generated_Yes\n",
            "127  6.799695  80.701103       190.167  42.355200  4.489815  Generated_Yes\n",
            "131  7.131837  80.725543       212.500  42.394900  5.012395  Generated_Yes\n",
            "133  7.085222  80.913779       228.667  42.333300  5.401587  Generated_Yes\n",
            "135  6.797237  80.610949       213.667  42.573900  5.018732  Generated_Yes\n",
            "140  7.132862  80.844799       224.917  42.666700  5.271488  Generated_Yes\n",
            "141  6.869202  80.539600       225.417  42.392000  5.317442  Generated_Yes\n",
            "142  6.777659  80.644009       194.750  40.930700  4.758042  Generated_Yes\n",
            "143  6.831459  80.579292       214.667  43.404000  4.945788  Generated_Yes\n",
            "145  6.960693  80.789249       232.750  43.083300  5.402325  Generated_Yes\n",
            "149  6.947153  80.526026       212.000  40.784100  5.198104  Generated_Yes\n",
            "150  6.928954  80.594061       207.917  39.978600  5.200707  Generated_Yes\n",
            "152  6.965504  80.755655       230.833  47.700300  4.839236  Generated_Yes\n",
            "157  6.829020  80.554767       228.917  43.680000  5.240774  Generated_Yes\n",
            "158  6.876407  80.714020       187.250  39.889100  4.694265  Generated_Yes\n",
            "159  6.930155  80.618917       204.250  41.500000  4.921687  Generated_Yes\n",
            "161  6.841963  80.758600       204.083  41.910100  4.869542  Generated_Yes\n",
            "165  6.771132  80.615330       227.000  44.039100  5.154510  Generated_Yes\n",
            "167  6.806566  80.501875       219.583  42.116000  5.213767  Generated_Yes\n",
            "168  6.760926  80.622241       216.500  43.632300  4.961920  Generated_Yes\n",
            "170  6.899253  80.492189       222.833  41.932000  5.314151  Generated_Yes\n",
            "171  7.093032  80.850463       234.333  42.750000  5.481474  Generated_Yes\n",
            "173  7.032143  80.831148       233.583  42.583300  5.485319  Generated_Yes\n",
            "176  6.890018  80.700411       204.167  40.605100  5.028112  Generated_Yes\n",
            "179  7.170221  80.752503       220.333  42.583300  5.174165  Generated_Yes\n",
            "180  6.790106  80.775494       190.250  40.752700  4.668402  Generated_Yes\n",
            "189  7.168315  80.921970       240.167  42.250000  5.684426  Generated_Yes\n",
            "190  6.898526  80.796773       211.833  43.957700  4.819019  Generated_Yes\n",
            "192  7.039072  80.863817       235.750  42.250000  5.579882  Generated_Yes\n",
            "196  6.930641  80.476459       198.833  42.394900  4.690022  Generated_Yes\n",
            "197  6.518636  80.600008       218.583  42.442700  5.150073  Generated_Yes\n",
            "198  6.460611  80.611084       214.083  42.808700  5.000923  Generated_Yes\n",
            "199  6.832416  80.262874       240.250  42.329000  5.675778  Generated_Yes\n",
            "200  6.689408  80.382528       226.083  42.671000  5.298282  Generated_Yes\n",
            "201  6.519764  80.468150       221.750  41.987000  5.281397  Generated_Yes\n",
            "202  6.721928  80.774413       183.167  42.177100  4.342807  Generated_Yes\n",
            "203  6.504540  80.808633       205.083  41.375900  4.956581  Generated_Yes\n",
            "204  6.628693  80.580633       219.833  42.534200  5.168382  Generated_Yes\n",
            "205  6.745058  80.532469       218.833  41.901500  5.222558  Generated_Yes\n",
            "207  6.587640  80.816911       201.833  40.752700  4.952629  Generated_Yes\n",
            "208  6.540204  80.366934       219.500  42.243500  5.196066  Generated_Yes\n",
            "209  6.308491  80.806601       212.167  42.889400  4.946840  Generated_Yes\n",
            "211  6.729913  80.698759       177.250  41.286900  4.293129  Generated_Yes\n",
            "216  6.657871  80.530260       224.000  43.013000  5.207728  Generated_Yes\n",
            "218  6.633325  80.663066       203.417  42.168100  4.823955  Generated_Yes\n",
            "219  6.620635  80.476849       236.917  43.013000  5.508032  Generated_Yes\n",
            "221  6.531281  80.657653       208.167  41.710600  4.990746  Generated_Yes\n",
            "224  6.301308  80.910531       205.250  41.821000  4.907821  Generated_Yes\n",
            "235  6.547371  80.722266       196.500  41.643000  4.718680  Generated_Yes\n",
            "239  6.306858  80.780042       203.000  42.444200  4.782750  Generated_Yes\n",
            "242  6.623515  80.724249       190.500  41.286900  4.614054  Generated_Yes\n",
            "243  6.679572  80.822522       197.750  41.108800  4.810406  Generated_Yes\n",
            "245  6.431473  80.773114       195.417  40.841700  4.784742  Generated_Yes\n",
            "256  6.841356  80.248247       254.417  43.868100  5.799590  Generated_Yes\n",
            "258  6.594099  80.731485       190.667  41.286900  4.618099  Generated_Yes\n",
            "264  6.875859  80.229411       250.500  41.815900  5.990544  Generated_Yes\n",
            "274  6.833332  80.295439       247.250  42.927500  5.759711  Generated_Yes\n",
            "277  6.898424  80.214979       246.750  42.842000  5.759535  Generated_Yes\n",
            "283  6.727626  80.734286       184.750  40.396600  4.573405  Generated_Yes\n",
            "285  6.845797  80.391271       233.750  41.748000  5.599071  Generated_Yes\n",
            "297  6.519725  80.154021       316.000  45.000000  7.022222            yes\n",
            "298  6.586835  80.160486       259.000  37.000000  7.000000            yes\n",
            "299  6.093508  80.606877       119.000  30.000000  3.966667            yes\n",
            "300  6.509504  80.231427       244.000  49.000000  4.979592            yes\n",
            "302  6.702273  80.384613       197.000  39.000000  5.051282            yes\n",
            "303  6.518587  80.181359       205.000  41.000000  5.000000            yes\n",
            "304  7.038100  81.107900       165.000  41.000000  4.024390            yes\n",
            "305  6.704300  80.382800       319.000  45.571429  7.000000            yes\n",
            "306  7.423900  80.610400       305.000  43.571429  7.000000            yes\n",
            "307  6.916700  81.033300       310.000  51.666667  6.000000            yes\n",
            "308  7.422700  80.630900       179.000  44.750000  4.000000            yes\n",
            "309  7.623500  80.634900       198.000  24.750000  8.000000            yes\n",
            "311  6.889400  81.040200       228.000  45.600000  5.000000            yes\n",
            "312  6.032700  80.217400       257.000  42.833333  6.000000            yes\n",
            "313  6.969800  81.039000       268.000  53.600000  5.000000            yes\n",
            "314  7.130600  80.454800       289.000  48.166667  6.000000            yes\n",
            "315  6.976900  80.781600       215.000  53.750000  4.000000            yes\n",
            "316  6.965800  80.757700       149.000  49.666667  3.000000            yes\n",
            "317  6.936600  80.695300       180.000  45.000000  4.000000            yes\n",
            "318  6.957291  81.120465       147.000  29.400000  5.000000            yes\n",
            "320  6.216700  80.450000       206.000  41.200000  5.000000            yes\n",
            "322  7.275300  81.071400       182.000  36.400000  5.000000            yes\n",
            "323  7.255800  80.301900       211.000  42.200000  5.000000            yes\n",
            "324  6.686000  80.387400       320.000  53.333333  6.000000            yes\n",
            "325  6.993500  81.047300       307.000  43.857143  7.000000            yes\n",
            "326  7.080800  80.735400       338.000  42.250000  8.000000            yes\n"
          ]
        }
      ]
    },
    {
      "cell_type": "code",
      "source": [
        "# filter the DataFrame to get only the rows where Status is \"Generated_Yes\"\n",
        "generated_yes_df = dataset_rd_s[dataset_rd_s['Status'] == 'Generated_Yes']\n",
        "\n",
        "# find the minimum value for cum_rainfall in the filtered DataFrame\n",
        "min_cum_rainfall = generated_yes_df['cum_rainfall'].min()\n",
        "# find the minimum value for hours in the filtered DataFrame\n",
        "min_hours= generated_yes_df['hours'].min()\n",
        "print(\"Minimum value for cum_rainfall with Status Generated_Yes:\", min_cum_rainfall)\n",
        "print(\"Minimum value for hours with Status Generated_Yes:\", min_hours)"
      ],
      "metadata": {
        "id": "XkrFtSCjXoG6",
        "outputId": "3ea6047f-ce21-4472-8084-df2fb4ba0b37",
        "colab": {
          "base_uri": "https://localhost:8080/"
        }
      },
      "execution_count": 25,
      "outputs": [
        {
          "output_type": "stream",
          "name": "stdout",
          "text": [
            "Minimum value for cum_rainfall with Status Generated_Yes: 177.25\n",
            "Minimum value for hours with Status Generated_Yes: 4.293129298\n"
          ]
        }
      ]
    },
    {
      "cell_type": "code",
      "source": [
        "dataset_rd_s_2=dataset_rd_s[['cum_rainfall','intensity','hours','Status']]\n",
        "df=dataset_rd_s_2.reset_index()\n",
        "print(df)"
      ],
      "metadata": {
        "colab": {
          "base_uri": "https://localhost:8080/"
        },
        "id": "z2NbJ6ldYQDz",
        "outputId": "ac25a88d-975b-4eac-96f1-4ab81cd5d4f7"
      },
      "execution_count": 22,
      "outputs": [
        {
          "output_type": "stream",
          "name": "stdout",
          "text": [
            "     index  cum_rainfall  intensity     hours         Status\n",
            "0        0       207.333  39.966300  5.187696  Generated_Yes\n",
            "1        1       201.750  42.147600  4.786749  Generated_Yes\n",
            "2        2       212.333  40.756900  5.209744  Generated_Yes\n",
            "3        3       204.500  39.397300  5.190711  Generated_Yes\n",
            "4        5       237.000  44.000000  5.386364  Generated_Yes\n",
            "..     ...           ...        ...       ...            ...\n",
            "151    322       182.000  36.400000  5.000000            yes\n",
            "152    323       211.000  42.200000  5.000000            yes\n",
            "153    324       320.000  53.333333  6.000000            yes\n",
            "154    325       307.000  43.857143  7.000000            yes\n",
            "155    326       338.000  42.250000  8.000000            yes\n",
            "\n",
            "[156 rows x 5 columns]\n"
          ]
        }
      ]
    },
    {
      "cell_type": "code",
      "source": [
        "import random\n",
        "dataset_rd_s[\"Status\"]\n",
        "new_cum_rainfall_=[]\n",
        "new_hours_=[]\t\n",
        "new_intensity_=[]\n",
        "status=[]\n",
        "\n",
        "for i in range(len(df)):\n",
        "  \n",
        "  if df[\"Status\"][i]==\"Generated_Yes\":\n",
        "    new_cum_rainfall=df[\"cum_rainfall\"][i]-random.randint(40,140)\n",
        "    new_hours=df[\"hours\"][i]-random.uniform(0.5, 2.5)\n",
        "    new_intensity\t=new_cum_rainfall/new_hours\n",
        "    new_status=\"Generated_No\"\n",
        "\n",
        "    new_cum_rainfall_.append(new_cum_rainfall)\n",
        "    new_hours_.append(new_hours)\n",
        "    new_intensity_.append(new_intensity)\n",
        "    status.append(new_status)\n",
        "    \n",
        "  elif df[\"Status\"][i]==\"yes\":\n",
        "    new_cum_rainfall=df[\"cum_rainfall\"][i]\n",
        "    new_hours=df[\"hours\"][i]\n",
        "    new_intensity\t=new_cum_rainfall/new_hours\n",
        "    new_status=\"yes\"\n",
        "\n",
        "    new_cum_rainfall_.append(new_cum_rainfall)\n",
        "    new_hours_.append(new_hours)\n",
        "    new_intensity_.append(new_intensity)\n",
        "    status.append(new_status)\n",
        "\n"
      ],
      "metadata": {
        "id": "iNtZLdG-Gl-K"
      },
      "execution_count": 30,
      "outputs": []
    },
    {
      "cell_type": "code",
      "source": [
        "\n",
        "rainfall_data= {\n",
        "    'new_cum_rainfall':new_cum_rainfall_,\n",
        "    'new_hours' :new_hours_,\n",
        "    'new_intensity':new_intensity_,\n",
        "    'status':status\n",
        "          }\n",
        "df1 = pd.DataFrame(rainfall_data)\n",
        "print(df1)\n",
        "df1.to_csv(r'/content/rainfall_dataset_final_001.csv')"
      ],
      "metadata": {
        "id": "0QiZ_grkcjtQ",
        "outputId": "9472503d-8d7a-4cf7-e7a9-ad213e680956",
        "colab": {
          "base_uri": "https://localhost:8080/"
        }
      },
      "execution_count": 32,
      "outputs": [
        {
          "output_type": "stream",
          "name": "stdout",
          "text": [
            "     new_cum_rainfall  new_hours  new_intensity        status\n",
            "0              68.333   3.929129      17.391387  Generated_No\n",
            "1             118.750   2.815568      42.176210  Generated_No\n",
            "2             131.333   3.169767      41.433012  Generated_No\n",
            "3             163.500   3.663414      44.630501  Generated_No\n",
            "4             108.000   3.863503      27.953905  Generated_No\n",
            "..                ...        ...            ...           ...\n",
            "151           182.000   5.000000      36.400000           yes\n",
            "152           211.000   5.000000      42.200000           yes\n",
            "153           320.000   6.000000      53.333333           yes\n",
            "154           307.000   7.000000      43.857143           yes\n",
            "155           338.000   8.000000      42.250000           yes\n",
            "\n",
            "[156 rows x 4 columns]\n"
          ]
        }
      ]
    },
    {
      "cell_type": "code",
      "source": [],
      "metadata": {
        "id": "Q7rjXljFWuS2"
      },
      "execution_count": null,
      "outputs": []
    }
  ]
}