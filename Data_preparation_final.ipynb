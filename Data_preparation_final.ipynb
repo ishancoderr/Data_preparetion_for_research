{
  "nbformat": 4,
  "nbformat_minor": 0,
  "metadata": {
    "colab": {
      "provenance": [],
      "include_colab_link": true
    },
    "kernelspec": {
      "name": "python3",
      "display_name": "Python 3"
    },
    "language_info": {
      "name": "python"
    }
  },
  "cells": [
    {
      "cell_type": "markdown",
      "metadata": {
        "id": "view-in-github",
        "colab_type": "text"
      },
      "source": [
        "<a href=\"https://colab.research.google.com/github/ishancoderr/Data_preparetion_for_research/blob/master/Data_preparation_final.ipynb\" target=\"_parent\"><img src=\"https://colab.research.google.com/assets/colab-badge.svg\" alt=\"Open In Colab\"/></a>"
      ]
    },
    {
      "cell_type": "code",
      "execution_count": 8,
      "metadata": {
        "id": "yHmtpiZ0Bg1B"
      },
      "outputs": [],
      "source": [
        "import numpy as np\n",
        "import matplotlib.pyplot as plt\n",
        "import pandas as pd\n"
      ]
    },
    {
      "cell_type": "code",
      "source": [
        "dataset=pd.read_csv(\"https://raw.githubusercontent.com/ishancoderr/Data_preparetion_for_research/master/Landslide_occuring_data_Extracted_data.csv\")\n",
        "print(len(dataset))"
      ],
      "metadata": {
        "colab": {
          "base_uri": "https://localhost:8080/"
        },
        "id": "gt6vtUUBCm8v",
        "outputId": "c7cbeada-b5ca-4c18-aaa0-1bf60114b9ed"
      },
      "execution_count": 9,
      "outputs": [
        {
          "output_type": "stream",
          "name": "stdout",
          "text": [
            "60\n"
          ]
        }
      ]
    },
    {
      "cell_type": "code",
      "source": [
        "dataset_rd=dataset.drop_duplicates()"
      ],
      "metadata": {
        "id": "KylcgG7IDNSW"
      },
      "execution_count": 10,
      "outputs": []
    },
    {
      "cell_type": "code",
      "source": [
        "print(len(dataset_rd))"
      ],
      "metadata": {
        "colab": {
          "base_uri": "https://localhost:8080/"
        },
        "id": "4I3wOsbGDq2K",
        "outputId": "1b5532bb-673c-44c4-e0cd-ec2d6402abd7"
      },
      "execution_count": 11,
      "outputs": [
        {
          "output_type": "stream",
          "name": "stdout",
          "text": [
            "60\n"
          ]
        }
      ]
    },
    {
      "cell_type": "code",
      "source": [
        "#Remove duplicate data\n",
        "\n",
        "dataset_rd_s=dataset_rd.drop_duplicates(subset=\"cum_rainfa\",keep='first')"
      ],
      "metadata": {
        "id": "7sM958GFEKVD"
      },
      "execution_count": 13,
      "outputs": []
    },
    {
      "cell_type": "code",
      "source": [
        "print(len(dataset_rd_s))"
      ],
      "metadata": {
        "colab": {
          "base_uri": "https://localhost:8080/"
        },
        "id": "JmSa4NUSGhE7",
        "outputId": "3a8ef363-c0b2-4619-a8a3-97f4809f73d7"
      },
      "execution_count": 14,
      "outputs": [
        {
          "output_type": "stream",
          "name": "stdout",
          "text": [
            "31\n"
          ]
        }
      ]
    },
    {
      "cell_type": "code",
      "source": [
        "with pd.option_context('display.max_rows', None, 'display.max_columns', None):  # more options can be specified also\n",
        "    print(dataset_rd_s)"
      ],
      "metadata": {
        "colab": {
          "base_uri": "https://localhost:8080/"
        },
        "id": "pshfLCbmXnNz",
        "outputId": "9f4b601c-1889-4368-a7cb-46c4df2f8e88"
      },
      "execution_count": 15,
      "outputs": [
        {
          "output_type": "stream",
          "name": "stdout",
          "text": [
            "     POINT_Y    POINT_X  cum_rainfa  intensity     hours  Extracted_Values  \\\n",
            "0   6.575556  80.794444     223.153    50.4530  6.123000                 3   \n",
            "1   6.600556  80.501111  227152.000    43.5120  6.000000                 4   \n",
            "2   6.697222  80.636667     321.524    40.2563  5.128000                 4   \n",
            "3   6.518636  80.600008     218.583    42.4427  5.150073                 1   \n",
            "4   6.460611  80.611084     214.083    42.8087  5.000923                 2   \n",
            "5   6.689408  80.382528     226.083    42.6710  5.298282                 1   \n",
            "6   6.519764  80.468150     221.750    41.9870  5.281397                 1   \n",
            "7   6.721928  80.774413     183.167    42.1771  4.342807                 3   \n",
            "8   6.504540  80.808633     205.083    41.3759  4.956581                 2   \n",
            "9   6.628693  80.580633     219.833    42.5342  5.168382                 3   \n",
            "10  6.745058  80.532469     218.833    41.9015  5.222558                 1   \n",
            "12  6.587640  80.816911     201.833    40.7527  4.952629                 2   \n",
            "14  6.729913  80.698759     177.250    41.2869  4.293129                 2   \n",
            "16  6.657871  80.530260     224.000    43.0130  5.207728                 1   \n",
            "17  6.575387  80.795141     200.333    41.8210  4.790249                 3   \n",
            "18  6.633325  80.663066     203.417    42.1681  4.823955                 2   \n",
            "19  6.620635  80.476849     236.917    43.0130  5.508032                 1   \n",
            "20  6.531281  80.657653     208.167    41.7106  4.990746                 1   \n",
            "22  6.739018  80.840854     214.167    42.4442  5.045848                 2   \n",
            "23  6.796132  80.435969     219.583    42.1160  5.213767                 1   \n",
            "24  6.564680  80.521414     210.167    41.5275  5.060911                 4   \n",
            "25  6.547371  80.722266     196.500    41.6430  4.718680                 2   \n",
            "29  6.623515  80.724249     190.500    41.2869  4.614054                 3   \n",
            "30  6.679572  80.822522     197.750    41.1088  4.810406                 1   \n",
            "37  6.594099  80.731485     190.667    41.2869  4.618099                 2   \n",
            "46  6.727626  80.734286     184.750    40.3966  4.573405                 3   \n",
            "49  6.598087  80.379426     219.500    42.2435  5.196066                 1   \n",
            "56  6.717222  80.597500     187.263    51.2360  6.000000                 4   \n",
            "57  6.708889  80.706944     301.523    43.2510  7.000000                 3   \n",
            "58  6.757500  80.593889     285.163    42.5326  5.000000                 4   \n",
            "59  6.631736  80.614456     190.234    41.2310  5.000000                 4   \n",
            "\n",
            "           Status  \n",
            "0             yes  \n",
            "1             yes  \n",
            "2             yes  \n",
            "3   Generated_Yes  \n",
            "4   Generated_Yes  \n",
            "5   Generated_Yes  \n",
            "6   Generated_Yes  \n",
            "7   Generated_Yes  \n",
            "8   Generated_Yes  \n",
            "9   Generated_Yes  \n",
            "10  Generated_Yes  \n",
            "12  Generated_Yes  \n",
            "14  Generated_Yes  \n",
            "16  Generated_Yes  \n",
            "17  Generated_Yes  \n",
            "18  Generated_Yes  \n",
            "19  Generated_Yes  \n",
            "20  Generated_Yes  \n",
            "22  Generated_Yes  \n",
            "23  Generated_Yes  \n",
            "24  Generated_Yes  \n",
            "25  Generated_Yes  \n",
            "29  Generated_Yes  \n",
            "30  Generated_Yes  \n",
            "37  Generated_Yes  \n",
            "46  Generated_Yes  \n",
            "49  Generated_Yes  \n",
            "56            yes  \n",
            "57            yes  \n",
            "58            yes  \n",
            "59            yes  \n"
          ]
        }
      ]
    },
    {
      "cell_type": "code",
      "source": [
        "# filter the DataFrame to get only the rows where Status is \"Generated_Yes\"\n",
        "generated_yes_df = dataset_rd_s[dataset_rd_s['Status'] == 'Generated_Yes']\n",
        "\n",
        "# find the minimum value for cum_rainfall in the filtered DataFrame\n",
        "min_cum_rainfall = generated_yes_df['cum_rainfa'].min()\n",
        "# find the minimum value for hours in the filtered DataFrame\n",
        "min_hours= generated_yes_df['hours'].min()\n",
        "print(\"Minimum value for cum_rainfall with Status Generated_Yes:\", min_cum_rainfall)\n",
        "print(\"Minimum value for hours with Status Generated_Yes:\", min_hours)"
      ],
      "metadata": {
        "id": "XkrFtSCjXoG6",
        "outputId": "5dc7a13d-58c6-45b9-8a4a-503c1dd9e537",
        "colab": {
          "base_uri": "https://localhost:8080/"
        }
      },
      "execution_count": 17,
      "outputs": [
        {
          "output_type": "stream",
          "name": "stdout",
          "text": [
            "Minimum value for cum_rainfall with Status Generated_Yes: 177.25\n",
            "Minimum value for hours with Status Generated_Yes: 4.293129298\n"
          ]
        }
      ]
    },
    {
      "cell_type": "code",
      "source": [
        "dataset_rd_s_2=dataset_rd_s[['cum_rainfa','intensity','hours','Extracted_Values','Status']]\n",
        "df=dataset_rd_s_2.reset_index()\n",
        "print(df)"
      ],
      "metadata": {
        "colab": {
          "base_uri": "https://localhost:8080/"
        },
        "id": "z2NbJ6ldYQDz",
        "outputId": "411808c2-3e9d-49b5-e4be-9151076d0a72"
      },
      "execution_count": 19,
      "outputs": [
        {
          "output_type": "stream",
          "name": "stdout",
          "text": [
            "    index  cum_rainfa  intensity     hours  Extracted_Values         Status\n",
            "0       0     223.153    50.4530  6.123000                 3            yes\n",
            "1       1  227152.000    43.5120  6.000000                 4            yes\n",
            "2       2     321.524    40.2563  5.128000                 4            yes\n",
            "3       3     218.583    42.4427  5.150073                 1  Generated_Yes\n",
            "4       4     214.083    42.8087  5.000923                 2  Generated_Yes\n",
            "5       5     226.083    42.6710  5.298282                 1  Generated_Yes\n",
            "6       6     221.750    41.9870  5.281397                 1  Generated_Yes\n",
            "7       7     183.167    42.1771  4.342807                 3  Generated_Yes\n",
            "8       8     205.083    41.3759  4.956581                 2  Generated_Yes\n",
            "9       9     219.833    42.5342  5.168382                 3  Generated_Yes\n",
            "10     10     218.833    41.9015  5.222558                 1  Generated_Yes\n",
            "11     12     201.833    40.7527  4.952629                 2  Generated_Yes\n",
            "12     14     177.250    41.2869  4.293129                 2  Generated_Yes\n",
            "13     16     224.000    43.0130  5.207728                 1  Generated_Yes\n",
            "14     17     200.333    41.8210  4.790249                 3  Generated_Yes\n",
            "15     18     203.417    42.1681  4.823955                 2  Generated_Yes\n",
            "16     19     236.917    43.0130  5.508032                 1  Generated_Yes\n",
            "17     20     208.167    41.7106  4.990746                 1  Generated_Yes\n",
            "18     22     214.167    42.4442  5.045848                 2  Generated_Yes\n",
            "19     23     219.583    42.1160  5.213767                 1  Generated_Yes\n",
            "20     24     210.167    41.5275  5.060911                 4  Generated_Yes\n",
            "21     25     196.500    41.6430  4.718680                 2  Generated_Yes\n",
            "22     29     190.500    41.2869  4.614054                 3  Generated_Yes\n",
            "23     30     197.750    41.1088  4.810406                 1  Generated_Yes\n",
            "24     37     190.667    41.2869  4.618099                 2  Generated_Yes\n",
            "25     46     184.750    40.3966  4.573405                 3  Generated_Yes\n",
            "26     49     219.500    42.2435  5.196066                 1  Generated_Yes\n",
            "27     56     187.263    51.2360  6.000000                 4            yes\n",
            "28     57     301.523    43.2510  7.000000                 3            yes\n",
            "29     58     285.163    42.5326  5.000000                 4            yes\n",
            "30     59     190.234    41.2310  5.000000                 4            yes\n"
          ]
        }
      ]
    },
    {
      "cell_type": "code",
      "source": [
        "import random\n",
        "dataset_rd_s[\"Status\"]\n",
        "new_cum_rainfall_=[]\n",
        "new_hours_=[]\t\n",
        "new_intensity_=[]\n",
        "status=[]\n",
        "new_extracted_Values=[]\n",
        "\n",
        "for i in range(len(df)):\n",
        "  \n",
        "  if df[\"Status\"][i]==\"Generated_Yes\":\n",
        "    new_cum_rainfall=df[\"cum_rainfa\"][i]-random.randint(40,140)\n",
        "    new_hours=df[\"hours\"][i]-random.uniform(0.5, 2.5)\n",
        "    new_intensity\t=new_cum_rainfall/new_hours\n",
        "    new_geo_risk=df['Extracted_Values'][i]\n",
        "    new_status=\"Generated_No\"\n",
        "\n",
        "    new_cum_rainfall_.append(new_cum_rainfall)\n",
        "    new_hours_.append(new_hours)\n",
        "    new_intensity_.append(new_intensity)\n",
        "    new_extracted_Values.append(new_geo_risk)\n",
        "    status.append(new_status)\n",
        "    \n",
        "  elif df[\"Status\"][i]==\"yes\":\n",
        "    new_cum_rainfall=df[\"cum_rainfa\"][i]\n",
        "    new_hours=df[\"hours\"][i]\n",
        "    new_intensity\t=new_cum_rainfall/new_hours\n",
        "    new_geo_risk=df['Extracted_Values'][i]\n",
        "    new_status=\"yes\"\n",
        "\n",
        "    new_cum_rainfall_.append(new_cum_rainfall)\n",
        "    new_hours_.append(new_hours)\n",
        "    new_intensity_.append(new_intensity)\n",
        "    new_extracted_Values.append(new_geo_risk)\n",
        "    status.append(new_status)\n",
        "\n"
      ],
      "metadata": {
        "id": "iNtZLdG-Gl-K"
      },
      "execution_count": 25,
      "outputs": []
    },
    {
      "cell_type": "code",
      "source": [
        "\n",
        "rainfall_data= {\n",
        "    'new_cum_rainfall':new_cum_rainfall_,\n",
        "    'new_hours' :new_hours_,\n",
        "    'new_intensity':new_intensity_,\n",
        "    'new_extracted_Values':new_extracted_Values,\n",
        "    'status':status\n",
        "          }\n",
        "df1 = pd.DataFrame(rainfall_data)\n",
        "print(df1)\n",
        "df1.to_csv(r'/content/rainfall_data_final_with_geo_risk.csv')"
      ],
      "metadata": {
        "id": "0QiZ_grkcjtQ",
        "outputId": "9a960c4a-52bf-4b68-820c-3d6a1e72eed3",
        "colab": {
          "base_uri": "https://localhost:8080/"
        }
      },
      "execution_count": 26,
      "outputs": [
        {
          "output_type": "stream",
          "name": "stdout",
          "text": [
            "    new_cum_rainfall  new_hours  new_intensity  new_extracted_Values  \\\n",
            "0            223.153   6.123000      36.445043                     3   \n",
            "1         227152.000   6.000000   37858.666667                     4   \n",
            "2            321.524   5.128000      62.699688                     4   \n",
            "3             82.583   3.325619      24.832371                     1   \n",
            "4            165.083   2.878905      57.342297                     2   \n",
            "5            104.083   3.000018      34.694119                     1   \n",
            "6            180.750   4.587119      39.403815                     1   \n",
            "7            137.167   3.338163      41.090563                     3   \n",
            "8             80.083   4.138718      19.349713                     2   \n",
            "9             90.833   3.963723      22.916084                     3   \n",
            "10           177.833   4.684300      37.963620                     1   \n",
            "11           140.833   3.543891      39.739658                     2   \n",
            "12           123.250   3.150309      39.123145                     2   \n",
            "13           117.000   4.113992      28.439533                     1   \n",
            "14           128.333   4.015928      31.956004                     3   \n",
            "15            72.417   2.384939      30.364298                     2   \n",
            "16           149.917   3.941044      38.039920                     1   \n",
            "17           161.167   3.661462      44.017121                     1   \n",
            "18            83.167   3.174337      26.199805                     2   \n",
            "19           134.583   3.571754      37.679806                     1   \n",
            "20            74.167   2.772585      26.750131                     4   \n",
            "21           109.500   2.252740      48.607465                     2   \n",
            "22           112.500   3.116258      36.100990                     3   \n",
            "23           137.750   2.850314      48.328002                     1   \n",
            "24           124.667   2.264385      55.055570                     2   \n",
            "25            97.750   3.402586      28.728147                     3   \n",
            "26            80.500   2.836776      28.377285                     1   \n",
            "27           187.263   6.000000      31.210500                     4   \n",
            "28           301.523   7.000000      43.074714                     3   \n",
            "29           285.163   5.000000      57.032600                     4   \n",
            "30           190.234   5.000000      38.046800                     4   \n",
            "\n",
            "          status  \n",
            "0            yes  \n",
            "1            yes  \n",
            "2            yes  \n",
            "3   Generated_No  \n",
            "4   Generated_No  \n",
            "5   Generated_No  \n",
            "6   Generated_No  \n",
            "7   Generated_No  \n",
            "8   Generated_No  \n",
            "9   Generated_No  \n",
            "10  Generated_No  \n",
            "11  Generated_No  \n",
            "12  Generated_No  \n",
            "13  Generated_No  \n",
            "14  Generated_No  \n",
            "15  Generated_No  \n",
            "16  Generated_No  \n",
            "17  Generated_No  \n",
            "18  Generated_No  \n",
            "19  Generated_No  \n",
            "20  Generated_No  \n",
            "21  Generated_No  \n",
            "22  Generated_No  \n",
            "23  Generated_No  \n",
            "24  Generated_No  \n",
            "25  Generated_No  \n",
            "26  Generated_No  \n",
            "27           yes  \n",
            "28           yes  \n",
            "29           yes  \n",
            "30           yes  \n"
          ]
        }
      ]
    },
    {
      "cell_type": "code",
      "source": [],
      "metadata": {
        "id": "Q7rjXljFWuS2"
      },
      "execution_count": null,
      "outputs": []
    }
  ]
}