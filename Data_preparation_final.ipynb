{
  "nbformat": 4,
  "nbformat_minor": 0,
  "metadata": {
    "colab": {
      "provenance": [],
      "include_colab_link": true
    },
    "kernelspec": {
      "name": "python3",
      "display_name": "Python 3"
    },
    "language_info": {
      "name": "python"
    }
  },
  "cells": [
    {
      "cell_type": "markdown",
      "metadata": {
        "id": "view-in-github",
        "colab_type": "text"
      },
      "source": [
        "<a href=\"https://colab.research.google.com/github/ishancoderr/Data_preparetion_for_research/blob/master/Data_preparation_final.ipynb\" target=\"_parent\"><img src=\"https://colab.research.google.com/assets/colab-badge.svg\" alt=\"Open In Colab\"/></a>"
      ]
    },
    {
      "cell_type": "code",
      "execution_count": 43,
      "metadata": {
        "id": "yHmtpiZ0Bg1B"
      },
      "outputs": [],
      "source": [
        "import numpy as np\n",
        "import matplotlib.pyplot as plt\n",
        "import pandas as pd\n"
      ]
    },
    {
      "cell_type": "code",
      "source": [
        "dataset=pd.read_csv(\"https://raw.githubusercontent.com/ishancoderr/Data_preparetion_for_research/master/Landslide_occuring_data_Extracted_data.csv\")\n",
        "print(len(dataset))"
      ],
      "metadata": {
        "colab": {
          "base_uri": "https://localhost:8080/"
        },
        "id": "gt6vtUUBCm8v",
        "outputId": "1d8c430e-4361-4bba-d068-e3f145f77b8c"
      },
      "execution_count": 44,
      "outputs": [
        {
          "output_type": "stream",
          "name": "stdout",
          "text": [
            "60\n"
          ]
        }
      ]
    },
    {
      "cell_type": "code",
      "source": [
        "with pd.option_context('display.max_rows', None, 'display.max_columns', None):  # more options can be specified also\n",
        "    print(dataset_rd_s)"
      ],
      "metadata": {
        "colab": {
          "base_uri": "https://localhost:8080/"
        },
        "id": "pshfLCbmXnNz",
        "outputId": "a9eabcef-2af8-4d0b-cff6-887435870ae6"
      },
      "execution_count": 45,
      "outputs": [
        {
          "output_type": "stream",
          "name": "stdout",
          "text": [
            "     POINT_Y    POINT_X  cum_rainfa  intensity     hours  Extracted_Values  \\\n",
            "0   6.575556  80.794444     223.153    50.4530  6.123000                 3   \n",
            "1   6.600556  80.501111  227152.000    43.5120  6.000000                 4   \n",
            "2   6.697222  80.636667     321.524    40.2563  5.128000                 4   \n",
            "3   6.518636  80.600008     218.583    42.4427  5.150073                 1   \n",
            "4   6.460611  80.611084     214.083    42.8087  5.000923                 2   \n",
            "5   6.689408  80.382528     226.083    42.6710  5.298282                 1   \n",
            "6   6.519764  80.468150     221.750    41.9870  5.281397                 1   \n",
            "7   6.721928  80.774413     183.167    42.1771  4.342807                 3   \n",
            "8   6.504540  80.808633     205.083    41.3759  4.956581                 2   \n",
            "9   6.628693  80.580633     219.833    42.5342  5.168382                 3   \n",
            "10  6.745058  80.532469     218.833    41.9015  5.222558                 1   \n",
            "12  6.587640  80.816911     201.833    40.7527  4.952629                 2   \n",
            "14  6.729913  80.698759     177.250    41.2869  4.293129                 2   \n",
            "16  6.657871  80.530260     224.000    43.0130  5.207728                 1   \n",
            "17  6.575387  80.795141     200.333    41.8210  4.790249                 3   \n",
            "18  6.633325  80.663066     203.417    42.1681  4.823955                 2   \n",
            "19  6.620635  80.476849     236.917    43.0130  5.508032                 1   \n",
            "20  6.531281  80.657653     208.167    41.7106  4.990746                 1   \n",
            "22  6.739018  80.840854     214.167    42.4442  5.045848                 2   \n",
            "23  6.796132  80.435969     219.583    42.1160  5.213767                 1   \n",
            "24  6.564680  80.521414     210.167    41.5275  5.060911                 4   \n",
            "25  6.547371  80.722266     196.500    41.6430  4.718680                 2   \n",
            "29  6.623515  80.724249     190.500    41.2869  4.614054                 3   \n",
            "30  6.679572  80.822522     197.750    41.1088  4.810406                 1   \n",
            "37  6.594099  80.731485     190.667    41.2869  4.618099                 2   \n",
            "46  6.727626  80.734286     184.750    40.3966  4.573405                 3   \n",
            "49  6.598087  80.379426     219.500    42.2435  5.196066                 1   \n",
            "56  6.717222  80.597500     187.263    51.2360  6.000000                 4   \n",
            "57  6.708889  80.706944     301.523    43.2510  7.000000                 3   \n",
            "58  6.757500  80.593889     285.163    42.5326  5.000000                 4   \n",
            "59  6.631736  80.614456     190.234    41.2310  5.000000                 4   \n",
            "\n",
            "           Status  \n",
            "0             yes  \n",
            "1             yes  \n",
            "2             yes  \n",
            "3   Generated_Yes  \n",
            "4   Generated_Yes  \n",
            "5   Generated_Yes  \n",
            "6   Generated_Yes  \n",
            "7   Generated_Yes  \n",
            "8   Generated_Yes  \n",
            "9   Generated_Yes  \n",
            "10  Generated_Yes  \n",
            "12  Generated_Yes  \n",
            "14  Generated_Yes  \n",
            "16  Generated_Yes  \n",
            "17  Generated_Yes  \n",
            "18  Generated_Yes  \n",
            "19  Generated_Yes  \n",
            "20  Generated_Yes  \n",
            "22  Generated_Yes  \n",
            "23  Generated_Yes  \n",
            "24  Generated_Yes  \n",
            "25  Generated_Yes  \n",
            "29  Generated_Yes  \n",
            "30  Generated_Yes  \n",
            "37  Generated_Yes  \n",
            "46  Generated_Yes  \n",
            "49  Generated_Yes  \n",
            "56            yes  \n",
            "57            yes  \n",
            "58            yes  \n",
            "59            yes  \n"
          ]
        }
      ]
    },
    {
      "cell_type": "code",
      "source": [
        "# filter the DataFrame to get only the rows where Status is \"Generated_Yes\"\n",
        "generated_yes_df = dataset[dataset['Status'] == 'Generated_Yes']\n",
        "\n",
        "# find the minimum value for cum_rainfall in the filtered DataFrame\n",
        "min_cum_rainfall = generated_yes_df['cum_rainfa'].min()\n",
        "# find the minimum value for hours in the filtered DataFrame\n",
        "min_hours= generated_yes_df['hours'].min()\n",
        "print(\"Minimum value for cum_rainfall with Status Generated_Yes:\", min_cum_rainfall)\n",
        "print(\"Minimum value for hours with Status Generated_Yes:\", min_hours)"
      ],
      "metadata": {
        "id": "XkrFtSCjXoG6",
        "outputId": "8042ca29-b106-45ed-efdd-ac04bc2d75e4",
        "colab": {
          "base_uri": "https://localhost:8080/"
        }
      },
      "execution_count": 47,
      "outputs": [
        {
          "output_type": "stream",
          "name": "stdout",
          "text": [
            "Minimum value for cum_rainfall with Status Generated_Yes: 177.25\n",
            "Minimum value for hours with Status Generated_Yes: 4.293129298\n"
          ]
        }
      ]
    },
    {
      "cell_type": "code",
      "source": [
        "dataset_rd_s_2=dataset[['cum_rainfa','intensity','hours','Extracted_Values','Status']]\n",
        "df=dataset_rd_s_2.reset_index()\n",
        "print(df)"
      ],
      "metadata": {
        "colab": {
          "base_uri": "https://localhost:8080/"
        },
        "id": "z2NbJ6ldYQDz",
        "outputId": "ddeb0745-f416-4681-97e4-a6c8323f812a"
      },
      "execution_count": 48,
      "outputs": [
        {
          "output_type": "stream",
          "name": "stdout",
          "text": [
            "    index  cum_rainfa  intensity     hours  Extracted_Values         Status\n",
            "0       0     223.153    50.4530  6.123000                 3            yes\n",
            "1       1     227.152    43.5120  6.000000                 4            yes\n",
            "2       2     321.524    40.2563  5.128000                 4            yes\n",
            "3       3     218.583    42.4427  5.150073                 1  Generated_Yes\n",
            "4       4     214.083    42.8087  5.000923                 2  Generated_Yes\n",
            "5       5     226.083    42.6710  5.298282                 1  Generated_Yes\n",
            "6       6     221.750    41.9870  5.281397                 1  Generated_Yes\n",
            "7       7     183.167    42.1771  4.342807                 3  Generated_Yes\n",
            "8       8     205.083    41.3759  4.956581                 2  Generated_Yes\n",
            "9       9     219.833    42.5342  5.168382                 3  Generated_Yes\n",
            "10     10     218.833    41.9015  5.222558                 1  Generated_Yes\n",
            "11     11     226.083    42.6710  5.298282                 1  Generated_Yes\n",
            "12     12     201.833    40.7527  4.952629                 2  Generated_Yes\n",
            "13     13     183.167    42.1771  4.342807                 3  Generated_Yes\n",
            "14     14     177.250    41.2869  4.293129                 2  Generated_Yes\n",
            "15     15     205.083    41.3759  4.956581                 1  Generated_Yes\n",
            "16     16     224.000    43.0130  5.207728                 1  Generated_Yes\n",
            "17     17     200.333    41.8210  4.790249                 3  Generated_Yes\n",
            "18     18     203.417    42.1681  4.823955                 2  Generated_Yes\n",
            "19     19     236.917    43.0130  5.508032                 1  Generated_Yes\n",
            "20     20     208.167    41.7106  4.990746                 1  Generated_Yes\n",
            "21     21     200.333    41.8210  4.790249                 1  Generated_Yes\n",
            "22     22     214.167    42.4442  5.045848                 2  Generated_Yes\n",
            "23     23     219.583    42.1160  5.213767                 1  Generated_Yes\n",
            "24     24     210.167    41.5275  5.060911                 4  Generated_Yes\n",
            "25     25     196.500    41.6430  4.718680                 2  Generated_Yes\n",
            "26     26     218.833    41.9015  5.222558                 1  Generated_Yes\n",
            "27     27     219.833    42.5342  5.168382                 3  Generated_Yes\n",
            "28     28     183.167    42.1771  4.342807                 1  Generated_Yes\n",
            "29     29     190.500    41.2869  4.614054                 3  Generated_Yes\n",
            "30     30     197.750    41.1088  4.810406                 1  Generated_Yes\n",
            "31     31     183.167    42.1771  4.342807                 3  Generated_Yes\n",
            "32     32     226.083    42.6710  5.298282                 1  Generated_Yes\n",
            "33     33     226.083    42.6710  5.298282                 1  Generated_Yes\n",
            "34     34     224.000    43.0130  5.207728                 1  Generated_Yes\n",
            "35     35     226.083    42.6710  5.298282                 2  Generated_Yes\n",
            "36     36     200.333    41.8210  4.790249                 1  Generated_Yes\n",
            "37     37     190.667    41.2869  4.618099                 2  Generated_Yes\n",
            "38     38     197.750    41.1088  4.810406                 3  Generated_Yes\n",
            "39     39     196.500    41.6430  4.718680                 1  Generated_Yes\n",
            "40     40     226.083    42.6710  5.298282                 1  Generated_Yes\n",
            "41     41     208.167    41.7106  4.990746                 2  Generated_Yes\n",
            "42     42     224.000    43.0130  5.207728                 1  Generated_Yes\n",
            "43     43     200.333    41.8210  4.790249                 1  Generated_Yes\n",
            "44     44     203.417    42.1681  4.823955                 2  Generated_Yes\n",
            "45     45     210.167    41.5275  5.060911                 2  Generated_Yes\n",
            "46     46     184.750    40.3966  4.573405                 3  Generated_Yes\n",
            "47     47     224.000    43.0130  5.207728                 1  Generated_Yes\n",
            "48     48     219.583    42.1160  5.213767                 2  Generated_Yes\n",
            "49     49     219.500    42.2435  5.196066                 1  Generated_Yes\n",
            "50     50     200.333    41.8210  4.790249                 1  Generated_Yes\n",
            "51     51     219.583    42.1160  5.213767                 1  Generated_Yes\n",
            "52     52     226.083    42.6710  5.298282                 2  Generated_Yes\n",
            "53     53     210.167    41.5275  5.060911                 1  Generated_Yes\n",
            "54     54     201.833    40.7527  4.952629                 1  Generated_Yes\n",
            "55     55     221.750    41.9870  5.281397                 1  Generated_Yes\n",
            "56     56     187.263    51.2360  6.000000                 4            yes\n",
            "57     57     301.523    43.2510  7.000000                 3            yes\n",
            "58     58     285.163    42.5326  5.000000                 4            yes\n",
            "59     59     190.234    41.2310  5.000000                 4            yes\n"
          ]
        }
      ]
    },
    {
      "cell_type": "code",
      "source": [
        "import random\n",
        "dataset_rd_s[\"Status\"]\n",
        "new_cum_rainfall_=[]\n",
        "new_hours_=[]\t\n",
        "new_intensity_=[]\n",
        "status=[]\n",
        "new_extracted_Values=[]\n",
        "\n",
        "for i in range(len(df)):\n",
        "  \n",
        "  if df[\"Status\"][i]==\"Generated_Yes\":\n",
        "    new_cum_rainfall=df[\"cum_rainfa\"][i]-random.randint(40,140)\n",
        "    new_hours=df[\"hours\"][i]-random.uniform(0.5, 2.5)\n",
        "    new_intensity\t=new_cum_rainfall/new_hours\n",
        "    new_geo_risk=df['Extracted_Values'][i]\n",
        "    new_status=\"Generated_No\"\n",
        "\n",
        "    new_cum_rainfall_.append(new_cum_rainfall)\n",
        "    new_hours_.append(new_hours)\n",
        "    new_intensity_.append(new_intensity)\n",
        "    new_extracted_Values.append(new_geo_risk)\n",
        "    status.append(new_status)\n",
        "    \n",
        "  elif df[\"Status\"][i]==\"yes\":\n",
        "    new_cum_rainfall=df[\"cum_rainfa\"][i]\n",
        "    new_hours=df[\"hours\"][i]\n",
        "    new_intensity\t=new_cum_rainfall/new_hours\n",
        "    new_geo_risk=df['Extracted_Values'][i]\n",
        "    new_status=\"yes\"\n",
        "\n",
        "    new_cum_rainfall_.append(new_cum_rainfall)\n",
        "    new_hours_.append(new_hours)\n",
        "    new_intensity_.append(new_intensity)\n",
        "    new_extracted_Values.append(new_geo_risk)\n",
        "    status.append(new_status)\n",
        "\n"
      ],
      "metadata": {
        "id": "iNtZLdG-Gl-K"
      },
      "execution_count": 49,
      "outputs": []
    },
    {
      "cell_type": "code",
      "source": [
        "\n",
        "rainfall_data= {\n",
        "    'new_cum_rainfall':new_cum_rainfall_,\n",
        "    'new_hours' :new_hours_,\n",
        "    'new_intensity':new_intensity_,\n",
        "    'new_extracted_Values':new_extracted_Values,\n",
        "    'status':status\n",
        "          }\n",
        "df1 = pd.DataFrame(rainfall_data)\n",
        "print(df1)\n",
        "df1.to_csv(r'/content/rainfall_data_with_geo_risk.csv')"
      ],
      "metadata": {
        "id": "0QiZ_grkcjtQ",
        "outputId": "54cbb352-92a1-4612-d9b4-ab865a7b4c35",
        "colab": {
          "base_uri": "https://localhost:8080/"
        }
      },
      "execution_count": 52,
      "outputs": [
        {
          "output_type": "stream",
          "name": "stdout",
          "text": [
            "    new_cum_rainfall  new_hours  new_intensity  new_extracted_Values  \\\n",
            "0            223.153   6.123000      36.445043                     3   \n",
            "1            227.152   6.000000      37.858667                     4   \n",
            "2            321.524   5.128000      62.699688                     4   \n",
            "3            132.583   3.360399      39.454544                     1   \n",
            "4             83.083   3.005415      27.644431                     2   \n",
            "5            168.083   2.817520      59.656372                     1   \n",
            "6            149.750   4.698921      31.869016                     1   \n",
            "7            142.167   3.278108      43.368609                     3   \n",
            "8             67.083   3.833869      17.497466                     2   \n",
            "9            174.833   4.173632      41.889895                     3   \n",
            "10           120.833   3.825500      31.586200                     1   \n",
            "11           182.083   3.298047      55.209338                     1   \n",
            "12           127.833   2.954404      43.268624                     2   \n",
            "13            98.167   2.002489      49.022481                     3   \n",
            "14            98.250   3.775765      26.021218                     2   \n",
            "15           161.083   2.570894      62.656421                     1   \n",
            "16           116.000   4.057401      28.589733                     1   \n",
            "17            77.333   2.574259      30.040879                     3   \n",
            "18           156.417   3.757603      41.626805                     2   \n",
            "19           149.917   4.881439      30.711641                     1   \n",
            "20            87.167   3.671249      23.743148                     1   \n",
            "21            91.333   3.896777      23.438089                     1   \n",
            "22           174.167   2.680415      64.977617                     2   \n",
            "23           166.583   4.613046      36.111285                     1   \n",
            "24            81.167   2.761198      29.395570                     4   \n",
            "25            74.500   3.463963      21.507158                     2   \n",
            "26           178.833   4.364024      40.978923                     1   \n",
            "27           166.833   2.734775      61.004296                     3   \n",
            "28           137.167   2.899382      47.309043                     1   \n",
            "29            61.500   3.596498      17.099968                     3   \n",
            "30            63.750   4.163630      15.311158                     1   \n",
            "31           126.167   3.336266      37.816833                     3   \n",
            "32           155.083   3.420806      45.335217                     1   \n",
            "33           180.083   4.244012      42.432252                     1   \n",
            "34           164.000   3.572424      45.907206                     1   \n",
            "35           138.083   4.499834      30.686245                     2   \n",
            "36           154.333   2.786928      55.377470                     1   \n",
            "37           124.667   3.234100      38.547658                     2   \n",
            "38            71.750   2.318155      30.951333                     3   \n",
            "39           144.500   3.839018      37.639830                     1   \n",
            "40           179.083   3.374619      53.067619                     1   \n",
            "41           108.167   2.592881      41.716919                     2   \n",
            "42           107.000   3.798986      28.165412                     1   \n",
            "43            64.333   3.074943      20.921692                     1   \n",
            "44            66.417   3.193665      20.796480                     2   \n",
            "45           113.167   3.230207      35.033977                     2   \n",
            "46            89.750   3.002667      29.890094                     3   \n",
            "47           146.000   4.014731      36.366072                     1   \n",
            "48           173.583   3.398104      51.082302                     2   \n",
            "49            80.500   4.574984      17.595690                     1   \n",
            "50            96.333   4.288383      22.463709                     1   \n",
            "51           178.583   3.921508      45.539373                     1   \n",
            "52           120.083   2.949125      40.718174                     2   \n",
            "53            89.167   2.960977      30.114049                     1   \n",
            "54           148.833   3.858891      38.568855                     1   \n",
            "55           133.750   3.857260      34.674872                     1   \n",
            "56           187.263   6.000000      31.210500                     4   \n",
            "57           301.523   7.000000      43.074714                     3   \n",
            "58           285.163   5.000000      57.032600                     4   \n",
            "59           190.234   5.000000      38.046800                     4   \n",
            "\n",
            "          status  \n",
            "0            yes  \n",
            "1            yes  \n",
            "2            yes  \n",
            "3   Generated_No  \n",
            "4   Generated_No  \n",
            "5   Generated_No  \n",
            "6   Generated_No  \n",
            "7   Generated_No  \n",
            "8   Generated_No  \n",
            "9   Generated_No  \n",
            "10  Generated_No  \n",
            "11  Generated_No  \n",
            "12  Generated_No  \n",
            "13  Generated_No  \n",
            "14  Generated_No  \n",
            "15  Generated_No  \n",
            "16  Generated_No  \n",
            "17  Generated_No  \n",
            "18  Generated_No  \n",
            "19  Generated_No  \n",
            "20  Generated_No  \n",
            "21  Generated_No  \n",
            "22  Generated_No  \n",
            "23  Generated_No  \n",
            "24  Generated_No  \n",
            "25  Generated_No  \n",
            "26  Generated_No  \n",
            "27  Generated_No  \n",
            "28  Generated_No  \n",
            "29  Generated_No  \n",
            "30  Generated_No  \n",
            "31  Generated_No  \n",
            "32  Generated_No  \n",
            "33  Generated_No  \n",
            "34  Generated_No  \n",
            "35  Generated_No  \n",
            "36  Generated_No  \n",
            "37  Generated_No  \n",
            "38  Generated_No  \n",
            "39  Generated_No  \n",
            "40  Generated_No  \n",
            "41  Generated_No  \n",
            "42  Generated_No  \n",
            "43  Generated_No  \n",
            "44  Generated_No  \n",
            "45  Generated_No  \n",
            "46  Generated_No  \n",
            "47  Generated_No  \n",
            "48  Generated_No  \n",
            "49  Generated_No  \n",
            "50  Generated_No  \n",
            "51  Generated_No  \n",
            "52  Generated_No  \n",
            "53  Generated_No  \n",
            "54  Generated_No  \n",
            "55  Generated_No  \n",
            "56           yes  \n",
            "57           yes  \n",
            "58           yes  \n",
            "59           yes  \n"
          ]
        }
      ]
    },
    {
      "cell_type": "code",
      "source": [],
      "metadata": {
        "id": "Q7rjXljFWuS2"
      },
      "execution_count": null,
      "outputs": []
    }
  ]
}