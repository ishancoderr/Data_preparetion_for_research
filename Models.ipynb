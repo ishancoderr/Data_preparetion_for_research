{
  "nbformat": 4,
  "nbformat_minor": 0,
  "metadata": {
    "colab": {
      "provenance": [],
      "include_colab_link": true
    },
    "kernelspec": {
      "name": "python3",
      "display_name": "Python 3"
    },
    "language_info": {
      "name": "python"
    }
  },
  "cells": [
    {
      "cell_type": "markdown",
      "metadata": {
        "id": "view-in-github",
        "colab_type": "text"
      },
      "source": [
        "<a href=\"https://colab.research.google.com/github/ishancoderr/Data_preparetion_for_research/blob/master/Models.ipynb\" target=\"_parent\"><img src=\"https://colab.research.google.com/assets/colab-badge.svg\" alt=\"Open In Colab\"/></a>"
      ]
    },
    {
      "cell_type": "code",
      "execution_count": 15,
      "metadata": {
        "colab": {
          "base_uri": "https://localhost:8080/"
        },
        "id": "-e1iPFJWrrTj",
        "outputId": "4f5c5fe7-5922-4256-a914-f89a4adf597b"
      },
      "outputs": [
        {
          "output_type": "stream",
          "name": "stdout",
          "text": [
            "     Unnamed: 0  new_cum_rainfall  new_hours  new_intensity        status\n",
            "0             0            68.333   3.929129      17.391387  Generated_No\n",
            "1             1           118.750   2.815568      42.176210  Generated_No\n",
            "2             2           131.333   3.169767      41.433012  Generated_No\n",
            "3             3           163.500   3.663414      44.630501  Generated_No\n",
            "4             4           108.000   3.863503      27.953905  Generated_No\n",
            "..          ...               ...        ...            ...           ...\n",
            "151         151           182.000   5.000000      36.400000           yes\n",
            "152         152           211.000   5.000000      42.200000           yes\n",
            "153         153           320.000   6.000000      53.333333           yes\n",
            "154         154           307.000   7.000000      43.857143           yes\n",
            "155         155           338.000   8.000000      42.250000           yes\n",
            "\n",
            "[156 rows x 5 columns]\n"
          ]
        }
      ],
      "source": [
        "import pandas as pd\n",
        "df = pd.read_csv('https://raw.githubusercontent.com/ishancoderr/Data_preparetion_for_research/master/rainfall_dataset_final_001.csv')\n",
        "print(df)"
      ]
    },
    {
      "cell_type": "code",
      "source": [
        "avg_cum_rainfall_for_No=0\n",
        "data_no=0\n",
        "avg_hours_for_No=0\n",
        "avg_intensity_for_No=0\n",
        "\n",
        "avg_cum_rainfall_for_yes=0\n",
        "data_no_yes =0\n",
        "avg_hours_for_yes=0\n",
        "avg_intensity_for_yes=0\n",
        "\n",
        "for i in range(len(df)):\n",
        "  if df['status'][i]==\"Generated_No\":\n",
        "    avg_cum_rainfall_for_No += df['new_cum_rainfall'][i]\n",
        "    data_no +=1\n",
        "    avg_hours_for_No += df['new_hours'][i]\n",
        "    avg_intensity_for_No += df['new_intensity'][i]\n",
        "\n",
        "  if df['status'][i]==\"yes\":\n",
        "    avg_cum_rainfall_for_yes += df['new_cum_rainfall'][i]\n",
        "    data_no_yes +=1\n",
        "    avg_hours_for_yes += df['new_hours'][i]\n",
        "    avg_intensity_for_yes += df['new_intensity'][i]\n",
        "\n",
        "avg_cum_rainfall_for_No=avg_cum_rainfall_for_No/data_no\n",
        "avg_hours_for_No=avg_hours_for_No/data_no\n",
        "avg_intensity_for_No=avg_intensity_for_No/data_no\n",
        "\n",
        "avg_cum_rainfall_for_yes=avg_cum_rainfall_for_yes/data_no_yes\n",
        "avg_hours_for_yes=avg_hours_for_yes/data_no_yes\n",
        "avg_intensity_for_yes=avg_intensity_for_yes/data_no_yes\n",
        "\n",
        "print(avg_cum_rainfall_for_No)\n",
        "print(avg_hours_for_No)\n",
        "print(avg_intensity_for_No)\n",
        "print(' ')\n",
        "print(avg_cum_rainfall_for_yes)\n",
        "print(avg_hours_for_yes)\n",
        "print(avg_intensity_for_yes)"
      ],
      "metadata": {
        "colab": {
          "base_uri": "https://localhost:8080/"
        },
        "id": "xrH1OCwfsxu8",
        "outputId": "0c4e7693-89b8-41d9-f64d-5ec64afc7b09"
      },
      "execution_count": 16,
      "outputs": [
        {
          "output_type": "stream",
          "name": "stdout",
          "text": [
            "119.60451538461538\n",
            "3.5853418610757966\n",
            "34.454984823322654\n",
            " \n",
            "235.1153846153846\n",
            "5.501698193115384\n",
            "43.06025641015934\n"
          ]
        }
      ]
    },
    {
      "cell_type": "code",
      "source": [
        "# Importing the libraries\n",
        "import numpy as np\n",
        "import matplotlib.pyplot as plt\n",
        "import pandas as pd"
      ],
      "metadata": {
        "id": "tcgTCb6Txylt"
      },
      "execution_count": 17,
      "outputs": []
    },
    {
      "cell_type": "code",
      "source": [
        "X = df.iloc[:, [1, 2]].values\n",
        "y = df.iloc[:, 4].values\n"
      ],
      "metadata": {
        "id": "VoM6Tk7P84mc"
      },
      "execution_count": 18,
      "outputs": []
    },
    {
      "cell_type": "code",
      "source": [
        "!pip install scikit-learn"
      ],
      "metadata": {
        "colab": {
          "base_uri": "https://localhost:8080/"
        },
        "id": "YqqKK7dg98-C",
        "outputId": "f83e3772-64da-4bd1-a038-e6a8c1cdada2"
      },
      "execution_count": 19,
      "outputs": [
        {
          "output_type": "stream",
          "name": "stdout",
          "text": [
            "Looking in indexes: https://pypi.org/simple, https://us-python.pkg.dev/colab-wheels/public/simple/\n",
            "Requirement already satisfied: scikit-learn in /usr/local/lib/python3.8/dist-packages (1.0.2)\n",
            "Requirement already satisfied: numpy>=1.14.6 in /usr/local/lib/python3.8/dist-packages (from scikit-learn) (1.22.4)\n",
            "Requirement already satisfied: joblib>=0.11 in /usr/local/lib/python3.8/dist-packages (from scikit-learn) (1.2.0)\n",
            "Requirement already satisfied: threadpoolctl>=2.0.0 in /usr/local/lib/python3.8/dist-packages (from scikit-learn) (3.1.0)\n",
            "Requirement already satisfied: scipy>=1.1.0 in /usr/local/lib/python3.8/dist-packages (from scikit-learn) (1.7.3)\n"
          ]
        }
      ]
    },
    {
      "cell_type": "code",
      "source": [
        "from sklearn.model_selection import train_test_split\n",
        "X_train, X_test, y_train, y_test = train_test_split(X, y, test_size = 0.25, random_state = 0)"
      ],
      "metadata": {
        "id": "-6qJ9tUq96Uj"
      },
      "execution_count": 20,
      "outputs": []
    },
    {
      "cell_type": "code",
      "source": [
        "# Feature Scaling\n",
        "from sklearn.preprocessing import StandardScaler\n",
        "sc = StandardScaler()\n",
        "X_train = sc.fit_transform(X_train)\n",
        "X_test = sc.transform(X_test)\n"
      ],
      "metadata": {
        "id": "3ALDSMB1-b8b"
      },
      "execution_count": 21,
      "outputs": []
    },
    {
      "cell_type": "code",
      "source": [
        "# Fitting SVM to the Training set\n",
        "from sklearn.svm import SVC\n",
        "classifier = SVC(kernel='linear', random_state=0, probability=True)\n",
        "\n",
        "classifier.fit(X_train, y_train)"
      ],
      "metadata": {
        "colab": {
          "base_uri": "https://localhost:8080/"
        },
        "id": "aFoFj6RXJpPD",
        "outputId": "928b17f8-1c14-4a40-feeb-5f3f4b09f0af"
      },
      "execution_count": 48,
      "outputs": [
        {
          "output_type": "execute_result",
          "data": {
            "text/plain": [
              "SVC(kernel='linear', probability=True, random_state=0)"
            ]
          },
          "metadata": {},
          "execution_count": 48
        }
      ]
    },
    {
      "cell_type": "code",
      "source": [
        "# Predicting the Test set results\n",
        "y_pred = classifier.predict(X_test)\n"
      ],
      "metadata": {
        "id": "MNFqJJ7gMDGr"
      },
      "execution_count": 49,
      "outputs": []
    },
    {
      "cell_type": "code",
      "source": [
        "import numpy as np\n",
        "\n",
        "y_pred_prob = classifier.predict_proba(X_test)\n",
        "y_pred_percent = np.max(y_pred_prob, axis=1) / np.sum(y_pred_prob, axis=1)\n",
        "\n"
      ],
      "metadata": {
        "id": "c7ea2xhTWD0b",
        "outputId": "7bf61272-2064-411d-9dc6-4b55090d89a2",
        "colab": {
          "base_uri": "https://localhost:8080/"
        }
      },
      "execution_count": 52,
      "outputs": [
        {
          "output_type": "stream",
          "name": "stdout",
          "text": [
            "           0\n",
            "0   0.934042\n",
            "1   0.838785\n",
            "2   0.983969\n",
            "3   0.998719\n",
            "4   0.996909\n",
            "5   0.978824\n",
            "6   0.925389\n",
            "7   0.834210\n",
            "8   1.000000\n",
            "9   0.993700\n",
            "10  0.881486\n",
            "11  0.999355\n",
            "12  0.977851\n",
            "13  0.991417\n",
            "14  0.993289\n",
            "15  0.975948\n",
            "16  0.994103\n",
            "17  0.998557\n",
            "18  0.967386\n",
            "19  0.996006\n",
            "20  0.997433\n",
            "21  0.947435\n",
            "22  0.999996\n",
            "23  0.987313\n",
            "24  0.985490\n",
            "25  0.812092\n",
            "26  0.986807\n",
            "27  0.996505\n",
            "28  0.958141\n",
            "29  0.990748\n",
            "30  0.978472\n",
            "31  0.939514\n",
            "32  0.974034\n",
            "33  0.979210\n",
            "34  0.917278\n",
            "35  0.984531\n",
            "36  0.955339\n",
            "37  0.977551\n",
            "38  0.584420\n"
          ]
        }
      ]
    },
    {
      "cell_type": "code",
      "source": [
        "# Making the Confusion Matrix\n",
        "from sklearn.metrics import confusion_matrix\n",
        "cm = confusion_matrix(y_test, y_pred)\n",
        "\n",
        "\n",
        "t_T= {\n",
        "    'y test':y_test,\n",
        "    'y prdict' :y_pred,\n",
        "    'y predict accuracy':y_pred_percent,\n",
        "          }\n",
        "df=pd.DataFrame(t_T)\n",
        "print(df)\n",
        "print(cm)"
      ],
      "metadata": {
        "colab": {
          "base_uri": "https://localhost:8080/"
        },
        "id": "lX7znt-WMID5",
        "outputId": "2b93fa1c-eb4c-4b30-dfb3-7d6425635183"
      },
      "execution_count": 55,
      "outputs": [
        {
          "output_type": "stream",
          "name": "stdout",
          "text": [
            "          y test      y prdict  y predict accuracy\n",
            "0   Generated_No  Generated_No            0.934042\n",
            "1   Generated_No  Generated_No            0.838785\n",
            "2   Generated_No  Generated_No            0.983969\n",
            "3   Generated_No  Generated_No            0.998719\n",
            "4   Generated_No  Generated_No            0.996909\n",
            "5   Generated_No  Generated_No            0.978824\n",
            "6   Generated_No  Generated_No            0.925389\n",
            "7   Generated_No  Generated_No            0.834210\n",
            "8            yes           yes            1.000000\n",
            "9   Generated_No  Generated_No            0.993700\n",
            "10  Generated_No  Generated_No            0.881486\n",
            "11  Generated_No  Generated_No            0.999355\n",
            "12  Generated_No  Generated_No            0.977851\n",
            "13  Generated_No  Generated_No            0.991417\n",
            "14  Generated_No  Generated_No            0.993289\n",
            "15           yes  Generated_No            0.975948\n",
            "16  Generated_No  Generated_No            0.994103\n",
            "17  Generated_No  Generated_No            0.998557\n",
            "18  Generated_No  Generated_No            0.967386\n",
            "19  Generated_No  Generated_No            0.996006\n",
            "20           yes           yes            0.997433\n",
            "21  Generated_No  Generated_No            0.947435\n",
            "22           yes           yes            0.999996\n",
            "23  Generated_No  Generated_No            0.987313\n",
            "24  Generated_No  Generated_No            0.985490\n",
            "25           yes           yes            0.812092\n",
            "26  Generated_No  Generated_No            0.986807\n",
            "27  Generated_No  Generated_No            0.996505\n",
            "28  Generated_No  Generated_No            0.958141\n",
            "29  Generated_No  Generated_No            0.990748\n",
            "30  Generated_No  Generated_No            0.978472\n",
            "31  Generated_No  Generated_No            0.939514\n",
            "32           yes  Generated_No            0.974034\n",
            "33  Generated_No  Generated_No            0.979210\n",
            "34  Generated_No  Generated_No            0.917278\n",
            "35  Generated_No  Generated_No            0.984531\n",
            "36  Generated_No  Generated_No            0.955339\n",
            "37  Generated_No  Generated_No            0.977551\n",
            "38  Generated_No  Generated_No            0.584420\n",
            "[[33  0]\n",
            " [ 2  4]]\n"
          ]
        }
      ]
    },
    {
      "cell_type": "code",
      "source": [
        "from sklearn.metrics import classification_report\n",
        "from sklearn.metrics import accuracy_score\n",
        "report = classification_report(y_test, y_pred)\n",
        "print(report)\n",
        "accuracy = accuracy_score(y_test, y_pred)\n",
        "print(\"Accuracy: {:.2%}\".format(accuracy))"
      ],
      "metadata": {
        "id": "tzDB9WDqOKRF",
        "outputId": "20edb94f-2c51-44b2-d9d5-7475132d5d41",
        "colab": {
          "base_uri": "https://localhost:8080/"
        }
      },
      "execution_count": 44,
      "outputs": [
        {
          "output_type": "stream",
          "name": "stdout",
          "text": [
            "              precision    recall  f1-score   support\n",
            "\n",
            "Generated_No       0.92      1.00      0.96        33\n",
            "         yes       1.00      0.50      0.67         6\n",
            "\n",
            "    accuracy                           0.92        39\n",
            "   macro avg       0.96      0.75      0.81        39\n",
            "weighted avg       0.93      0.92      0.91        39\n",
            "\n",
            "Accuracy: 92.31%\n"
          ]
        }
      ]
    }
  ]
}