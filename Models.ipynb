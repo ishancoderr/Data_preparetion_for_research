{
  "nbformat": 4,
  "nbformat_minor": 0,
  "metadata": {
    "colab": {
      "provenance": [],
      "authorship_tag": "ABX9TyNeQfnS+iOUjeu6gsxRQtKN",
      "include_colab_link": true
    },
    "kernelspec": {
      "name": "python3",
      "display_name": "Python 3"
    },
    "language_info": {
      "name": "python"
    }
  },
  "cells": [
    {
      "cell_type": "markdown",
      "metadata": {
        "id": "view-in-github",
        "colab_type": "text"
      },
      "source": [
        "<a href=\"https://colab.research.google.com/github/ishancoderr/Data_preparetion_for_research/blob/master/Models.ipynb\" target=\"_parent\"><img src=\"https://colab.research.google.com/assets/colab-badge.svg\" alt=\"Open In Colab\"/></a>"
      ]
    },
    {
      "cell_type": "code",
      "execution_count": 1,
      "metadata": {
        "colab": {
          "base_uri": "https://localhost:8080/"
        },
        "id": "-e1iPFJWrrTj",
        "outputId": "6cbe121f-a9f6-476e-f9c7-bf4fb72952fc"
      },
      "outputs": [
        {
          "output_type": "stream",
          "name": "stdout",
          "text": [
            "     Unnamed: 0  new_cum_rainfall  new_hours  new_intensity        status\n",
            "0             0           185.333   4.393147      42.186847  Generated_No\n",
            "1             1           170.750   4.036087      42.305825  Generated_No\n",
            "2             2           192.333   4.625477      41.581228  Generated_No\n",
            "3             3           171.500   4.499677      38.113846  Generated_No\n",
            "4             4           204.000   4.755184      42.900545  Generated_No\n",
            "..          ...               ...        ...            ...           ...\n",
            "151         151           182.000   5.000000      36.400000           yes\n",
            "152         152           211.000   5.000000      42.200000           yes\n",
            "153         153           320.000   6.000000      53.333333           yes\n",
            "154         154           307.000   7.000000      43.857143           yes\n",
            "155         155           338.000   8.000000      42.250000           yes\n",
            "\n",
            "[156 rows x 5 columns]\n"
          ]
        }
      ],
      "source": [
        "import pandas as pd\n",
        "df = pd.read_csv('https://raw.githubusercontent.com/ishancoderr/Data_preparetion_for_research/master/rainfall_dataset.csv')\n",
        "print(df)"
      ]
    },
    {
      "cell_type": "code",
      "source": [
        "avg_cum_rainfall_for_No=0\n",
        "data_no=0\n",
        "avg_hours_for_No=0\n",
        "avg_intensity_for_No=0\n",
        "\n",
        "avg_cum_rainfall_for_yes=0\n",
        "data_no_yes =0\n",
        "avg_hours_for_yes=0\n",
        "avg_intensity_for_yes=0\n",
        "\n",
        "for i in range(len(df)):\n",
        "  if df['status'][i]==\"Generated_No\":\n",
        "    avg_cum_rainfall_for_No += df['new_cum_rainfall'][i]\n",
        "    data_no +=1\n",
        "    avg_hours_for_No += df['new_hours'][i]\n",
        "    avg_intensity_for_No += df['new_intensity'][i]\n",
        "\n",
        "  if df['status'][i]==\"yes\":\n",
        "    avg_cum_rainfall_for_yes += df['new_cum_rainfall'][i]\n",
        "    data_no_yes +=1\n",
        "    avg_hours_for_yes += df['new_hours'][i]\n",
        "    avg_intensity_for_yes += df['new_intensity'][i]\n",
        "\n",
        "avg_cum_rainfall_for_No=avg_cum_rainfall_for_No/data_no\n",
        "avg_hours_for_No=avg_hours_for_No/data_no\n",
        "avg_intensity_for_No=avg_intensity_for_No/data_no\n",
        "\n",
        "avg_cum_rainfall_for_yes=avg_cum_rainfall_for_yes/data_no_yes\n",
        "avg_hours_for_yes=avg_hours_for_yes/data_no_yes\n",
        "avg_intensity_for_yes=avg_intensity_for_yes/data_no_yes\n",
        "\n",
        "print(avg_cum_rainfall_for_No)\n",
        "print(avg_hours_for_No)\n",
        "print(avg_intensity_for_No)\n",
        "print(' ')\n",
        "print(avg_cum_rainfall_for_yes)\n",
        "print(avg_hours_for_yes)\n",
        "print(avg_intensity_for_yes)"
      ],
      "metadata": {
        "colab": {
          "base_uri": "https://localhost:8080/"
        },
        "id": "xrH1OCwfsxu8",
        "outputId": "b48a4e53-68c4-4ab8-9049-6cd94d0c8c4d"
      },
      "execution_count": 12,
      "outputs": [
        {
          "output_type": "stream",
          "name": "stdout",
          "text": [
            "188.81989999999993\n",
            "4.570909836321003\n",
            "41.34899467431102\n",
            " \n",
            "235.1153846153846\n",
            "5.501698193115384\n",
            "43.06025641015934\n"
          ]
        }
      ]
    },
    {
      "cell_type": "code",
      "source": [
        "# Importing the libraries\n",
        "import numpy as np\n",
        "import matplotlib.pyplot as plt\n",
        "import pandas as pd"
      ],
      "metadata": {
        "id": "tcgTCb6Txylt"
      },
      "execution_count": 13,
      "outputs": []
    },
    {
      "cell_type": "code",
      "source": [
        "X = df.iloc[:, [1, 2]].values\n",
        "y = df.iloc[:, 4].values\n"
      ],
      "metadata": {
        "id": "VoM6Tk7P84mc"
      },
      "execution_count": 20,
      "outputs": []
    },
    {
      "cell_type": "code",
      "source": [
        "!pip install scikit-learn"
      ],
      "metadata": {
        "colab": {
          "base_uri": "https://localhost:8080/"
        },
        "id": "YqqKK7dg98-C",
        "outputId": "d9efcaff-109c-4467-9b70-cb436c2fa19b"
      },
      "execution_count": 22,
      "outputs": [
        {
          "output_type": "stream",
          "name": "stdout",
          "text": [
            "Looking in indexes: https://pypi.org/simple, https://us-python.pkg.dev/colab-wheels/public/simple/\n",
            "Requirement already satisfied: scikit-learn in /usr/local/lib/python3.8/dist-packages (1.0.2)\n",
            "Requirement already satisfied: joblib>=0.11 in /usr/local/lib/python3.8/dist-packages (from scikit-learn) (1.2.0)\n",
            "Requirement already satisfied: numpy>=1.14.6 in /usr/local/lib/python3.8/dist-packages (from scikit-learn) (1.21.6)\n",
            "Requirement already satisfied: scipy>=1.1.0 in /usr/local/lib/python3.8/dist-packages (from scikit-learn) (1.7.3)\n",
            "Requirement already satisfied: threadpoolctl>=2.0.0 in /usr/local/lib/python3.8/dist-packages (from scikit-learn) (3.1.0)\n"
          ]
        }
      ]
    },
    {
      "cell_type": "code",
      "source": [
        "from sklearn.model_selection import train_test_split\n",
        "X_train, X_test, y_train, y_test = train_test_split(X, y, test_size = 0.25, random_state = 0)"
      ],
      "metadata": {
        "id": "-6qJ9tUq96Uj"
      },
      "execution_count": 24,
      "outputs": []
    },
    {
      "cell_type": "code",
      "source": [
        "# Feature Scaling\n",
        "from sklearn.preprocessing import StandardScaler\n",
        "sc = StandardScaler()\n",
        "X_train = sc.fit_transform(X_train)\n",
        "X_test = sc.transform(X_test)\n"
      ],
      "metadata": {
        "colab": {
          "base_uri": "https://localhost:8080/"
        },
        "id": "3ALDSMB1-b8b",
        "outputId": "18767883-db8e-4f75-b5a3-237b5108500c"
      },
      "execution_count": 29,
      "outputs": [
        {
          "output_type": "stream",
          "name": "stdout",
          "text": [
            "[[-0.01629539 -0.58747128]\n",
            " [-0.30920804  0.33322644]\n",
            " [-0.38553784 -0.66583715]\n",
            " [-1.01570176 -1.62935988]\n",
            " [-0.42491385 -0.60463739]\n",
            " [-0.39292269 -0.05833672]\n",
            " [ 0.19786522 -0.41029196]\n",
            " [-0.37815299 -0.20989333]\n",
            " [ 3.58505908  3.04737653]\n",
            " [-0.82614746 -0.38416506]\n",
            " [-0.20091662  0.2914376 ]\n",
            " [-0.65629594 -0.86137083]\n",
            " [ 0.30125311 -0.04519307]\n",
            " [-0.78677145 -0.53179557]\n",
            " [-0.12458682 -0.60506161]\n",
            " [-1.43663814 -2.40040143]\n",
            " [ 0.20773138  0.28310653]\n",
            " [-0.50614719 -0.78325296]\n",
            " [-0.38305653  0.23028849]\n",
            " [-1.35540481 -0.72702292]\n",
            " [ 2.69887721  1.68543204]\n",
            " [ 0.13140158 -0.22305894]\n",
            " [ 3.31920452  1.68543204]\n",
            " [-0.78922322 -0.24473132]\n",
            " [-0.51598381 -0.63927024]\n",
            " [ 0.39480437  0.32348755]\n",
            " [-0.72030781 -0.22558575]\n",
            " [-0.33136259 -0.54636627]\n",
            " [ 0.09695865 -0.41566548]\n",
            " [ 0.16832583 -0.30715001]\n",
            " [-1.07232878 -0.25006093]\n",
            " [-0.213205   -0.27641835]\n",
            " [-2.32282001 -1.08385509]\n",
            " [ 0.03539855 -0.93192166]\n",
            " [-0.78183837  0.12320742]\n",
            " [-0.25506233 -0.4165826 ]\n",
            " [-0.69570149 -0.61055902]\n",
            " [ 0.40218922  0.75378868]\n",
            " [ 0.29386826  0.17639561]]\n"
          ]
        }
      ]
    },
    {
      "cell_type": "code",
      "source": [
        "# Fitting SVM to the Training set\n",
        "from sklearn.svm import SVC\n",
        "classifier = SVC(kernel = 'linear', random_state = 0)\n",
        "classifier.fit(X_train, y_train)"
      ],
      "metadata": {
        "colab": {
          "base_uri": "https://localhost:8080/"
        },
        "id": "aFoFj6RXJpPD",
        "outputId": "419c5839-0e6d-474a-cd8f-361bb5cc9fbb"
      },
      "execution_count": 31,
      "outputs": [
        {
          "output_type": "execute_result",
          "data": {
            "text/plain": [
              "SVC(kernel='linear', random_state=0)"
            ]
          },
          "metadata": {},
          "execution_count": 31
        }
      ]
    },
    {
      "cell_type": "code",
      "source": [
        "# Predicting the Test set results\n",
        "y_pred = classifier.predict(X_test)\n"
      ],
      "metadata": {
        "id": "MNFqJJ7gMDGr"
      },
      "execution_count": 32,
      "outputs": []
    },
    {
      "cell_type": "code",
      "source": [
        "# Making the Confusion Matrix\n",
        "from sklearn.metrics import confusion_matrix\n",
        "cm = confusion_matrix(y_test, y_pred)\n",
        "\n",
        "\n",
        "t_T= {\n",
        "    'y test':y_test,\n",
        "    'y prdict' :y_pred,\n",
        "          }\n",
        "df=pd.DataFrame(t_T)\n",
        "print(df)\n",
        "print(cm)"
      ],
      "metadata": {
        "colab": {
          "base_uri": "https://localhost:8080/"
        },
        "id": "lX7znt-WMID5",
        "outputId": "34458885-9313-478f-ac7c-adcbfbbcd23c"
      },
      "execution_count": 38,
      "outputs": [
        {
          "output_type": "stream",
          "name": "stdout",
          "text": [
            "          y test      y prdict\n",
            "0   Generated_No  Generated_No\n",
            "1   Generated_No  Generated_No\n",
            "2   Generated_No  Generated_No\n",
            "3   Generated_No  Generated_No\n",
            "4   Generated_No  Generated_No\n",
            "5   Generated_No  Generated_No\n",
            "6   Generated_No  Generated_No\n",
            "7   Generated_No  Generated_No\n",
            "8            yes           yes\n",
            "9   Generated_No  Generated_No\n",
            "10  Generated_No  Generated_No\n",
            "11  Generated_No  Generated_No\n",
            "12  Generated_No  Generated_No\n",
            "13  Generated_No  Generated_No\n",
            "14  Generated_No  Generated_No\n",
            "15           yes  Generated_No\n",
            "16  Generated_No  Generated_No\n",
            "17  Generated_No  Generated_No\n",
            "18  Generated_No  Generated_No\n",
            "19  Generated_No  Generated_No\n",
            "20           yes           yes\n",
            "21  Generated_No  Generated_No\n",
            "22           yes           yes\n",
            "23  Generated_No  Generated_No\n",
            "24  Generated_No  Generated_No\n",
            "25           yes  Generated_No\n",
            "26  Generated_No  Generated_No\n",
            "27  Generated_No  Generated_No\n",
            "28  Generated_No  Generated_No\n",
            "29  Generated_No  Generated_No\n",
            "30  Generated_No  Generated_No\n",
            "31  Generated_No  Generated_No\n",
            "32           yes  Generated_No\n",
            "33  Generated_No  Generated_No\n",
            "34  Generated_No  Generated_No\n",
            "35  Generated_No  Generated_No\n",
            "36  Generated_No  Generated_No\n",
            "37  Generated_No  Generated_No\n",
            "38  Generated_No  Generated_No\n",
            "[[33  0]\n",
            " [ 3  3]]\n"
          ]
        }
      ]
    }
  ]
}